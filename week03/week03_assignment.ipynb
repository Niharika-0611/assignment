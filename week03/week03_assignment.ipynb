{
  "cells": [
    {
      "cell_type": "markdown",
      "metadata": {
        "nbgrader": {
          "grade": false,
          "grade_id": "intro",
          "locked": true,
          "schema_version": 1,
          "solution": false
        },
        "id": "zeRxt7ZvRR2F"
      },
      "source": [
        "# Week 3 Exercises\n",
        "\n",
        "See: _McKinney 2.3_ and [Python Documentation](https://docs.python.org/3/tutorial/controlflow.html) section 4 on flow control.\n",
        "\n",
        "\n",
        "**At the begining of the semester, all of the workshop programming exercises will be structured a specific way to make it easier to verify for yourself that you're on the right track as well as easier for me to do a first pass on automated grading.  The structure of each question will require you to write a function using Python code. Don't worry that we haven't talked about functions yet. Just edit the code between** `### BEGIN SOLUTION` and `### END SOLUTION` **as shown in the example below.**\n"
      ]
    },
    {
      "cell_type": "markdown",
      "metadata": {
        "id": "EXBeTJy2RR2G"
      },
      "source": [
        "**WHAT I PROVIDE:**\n",
        "```\n",
        "def some_function(parameter1, parameter2):\n",
        "\n",
        "   ### BEGIN SOLUTION\n",
        "   x = -1\n",
        "   ### END SOLUTION\n",
        "   \n",
        "   return x\n",
        "```\n",
        "\n",
        "**WHAT YOU SHOULD DO:** Just change the parameter names (if you feel you need to) and the calculations between `### BEGIN SOLUTION` and `### END SOLUTION`.  This is just a made up example.\n",
        "```\n",
        "def some_function(a, b):\n",
        "\n",
        "   ### BEGIN SOLUTION\n",
        "   temp = a + b\n",
        "   x = temp / a * b\n",
        "   ### END SOLUTION\n",
        "   \n",
        "   return x\n",
        "```\n"
      ]
    },
    {
      "cell_type": "markdown",
      "metadata": {
        "id": "DUJ2HtxDRR2G"
      },
      "source": [
        "---\n",
        "---\n",
        "\n",
        "**Below each programming exercise are some tests (`assertions`) that verify your code is working correctly.  If any assertions fail, you know that something isnt' right with your code, but having all assertions pass doesn't necessarily mean your code is perfect, yet. You should also create your own tests to make sure your code is correct.**\n",
        "\n",
        "**For now, please don't change any function names**"
      ]
    },
    {
      "cell_type": "markdown",
      "metadata": {
        "id": "2nPhGPZ_RR2G"
      },
      "source": [
        "### 14.1 Difference in rate per 1,000\n",
        "\n",
        "Often in public health, we report metrics as a number per 1,000 or per 1,000,000 in population. The purpose of that is to normalize the numbers between area of larger and smaller populations.\n",
        "\n",
        "Below, we have a function already built to calculate teh different in rate per 1,000 in two different regions.  The function normalizes them and then prints out a message describing their difference."
      ]
    },
    {
      "cell_type": "code",
      "execution_count": 87,
      "metadata": {
        "id": "qx6mjP05RR2G"
      },
      "outputs": [],
      "source": [
        "def diff_in_rate_normalized(count_a, total_a, count_b, total_b):\n",
        "    \"\"\"(int,int,int,int) -> str\n",
        "    * count_a is the number of occurences in area A\n",
        "    * total_a is the total population in area A\n",
        "    * count_b is the number of occurences in area B\n",
        "    * total_b is the total population in area B\n",
        "\n",
        "    This function returns a string describing how A and B compare in terms of occurence rates per 1,000 population.\"\"\"\n",
        "\n",
        "    rate_a = count_a / total_a * 1000\n",
        "    rate_b = count_b / total_b * 1000\n",
        "\n",
        "    if rate_a == rate_b:\n",
        "        msg = \"The rate in A and the rate in B are the same ({}).\".format(rate_a)\n",
        "    elif rate_a > rate_b:\n",
        "        msg = \"The rate in A ({}) is greater than the rate in B ({}).\".format(rate_a, rate_b)\n",
        "    else:\n",
        "        msg = \"The rate in A ({}) is less than the rate in B ({})\".format(rate_a, rate_b)\n",
        "\n",
        "    return msg"
      ]
    },
    {
      "cell_type": "code",
      "execution_count": 88,
      "metadata": {
        "id": "joREX1vERR2H",
        "outputId": "c953e484-741d-4fd3-fae6-1131b049e384",
        "colab": {
          "base_uri": "https://localhost:8080/"
        }
      },
      "outputs": [
        {
          "output_type": "stream",
          "name": "stdout",
          "text": [
            "The rate in A (1.0) is less than the rate in B (1.5)\n"
          ]
        }
      ],
      "source": [
        "rate_covid_testing = diff_in_rate_normalized(1,1000,15,10000)\n",
        "print(rate_covid_testing)"
      ]
    },
    {
      "cell_type": "code",
      "execution_count": 89,
      "metadata": {
        "id": "5b5yj--FRR2H",
        "outputId": "8e6d1a1b-218e-4359-9832-5919ac0a1fdd",
        "colab": {
          "base_uri": "https://localhost:8080/",
          "height": 35
        }
      },
      "outputs": [
        {
          "output_type": "execute_result",
          "data": {
            "text/plain": [
              "'The rate in A and the rate in B are the same (3.0).'"
            ],
            "application/vnd.google.colaboratory.intrinsic+json": {
              "type": "string"
            }
          },
          "metadata": {},
          "execution_count": 89
        }
      ],
      "source": [
        "diff_in_rate_normalized(3,1000,30,10000)"
      ]
    },
    {
      "cell_type": "markdown",
      "metadata": {
        "id": "SsAC_fUZRR2H"
      },
      "source": [
        "### 14.2 Trimming outliers\n",
        "\n",
        "While it works well in most cases, in practice, this may not truly make numbers comparable between extremely large population centers (e.g. New York City at 8.5 million) and very small rural areas (e.g. Meeteese, WY at 459 people).\n",
        "\n",
        "Let's take that function and make some adjustments.  If the total population of either A or B is more than 100 times larger than the other, then we want to return a different message.  That is, if the populations are more than two orders of magnitude different, then we shouldn't try to compare them."
      ]
    },
    {
      "cell_type": "code",
      "execution_count": 96,
      "metadata": {
        "id": "t8V21phVRR2I"
      },
      "outputs": [],
      "source": [
        "def diff_in_rate_normalized(count_a, total_a, count_b, total_b):\n",
        "    \"\"\"(int,int,int,int) -> str\n",
        "    * count_a is the number of occurences in area A\n",
        "    * total_a is the total population in area A\n",
        "    * count_b is the number of occurences in area B\n",
        "    * total_b is the total population in area B\n",
        "\n",
        "    This function returns a string describing how A and B compare in terms of occurence rates per 1,000 population.\n",
        "\n",
        "    If total_a / total_b > 100 OR total_b / total_a > 100 then we'll return a message saying the two can't be compared.\n",
        "    \"The total populations in A and B are so different that they can't be compared.\"\n",
        "    \"\"\"\n",
        "\n",
        "    if (total_a > 100 * total_b) or (total_b > 100 * total_a):\n",
        "        return \"The total populations in A and B are so different that they can't be compared.\"\n",
        "\n",
        "\n",
        "    rate_a = (count_a / total_a) * 1000\n",
        "    rate_b = (count_b / total_b) * 1000\n",
        "\n",
        "    if rate_a == rate_b:\n",
        "        return \"The rate in A and the rate in B are the same ({}).\".format(rate_a)\n",
        "    elif rate_a > rate_b:\n",
        "        return f\"Area A has a higher occurrence rate ({rate_a:.2f} per 1,000) compared to Area B ({rate_b:.2f} per 1,000).\"\n",
        "    elif rate_a < rate_b:\n",
        "        return f\"Area B has a higher occurrence rate ({rate_b:.2f} per 1,000) compared to Area A ({rate_a:.2f} per 1,000).\"\n",
        "    else:\n",
        "        return \"Both areas have the same occurrence rate per 1,000 population.\"\n",
        "\n",
        "    msg = \"I didn't write any code, yet\"\n",
        "\n",
        "    return msg"
      ]
    },
    {
      "cell_type": "code",
      "execution_count": 97,
      "metadata": {
        "id": "5-pW4Pl2RR2I",
        "outputId": "d34891f4-ca4e-4f3e-ae7d-d056f4bf815c",
        "colab": {
          "base_uri": "https://localhost:8080/",
          "height": 52
        }
      },
      "outputs": [
        {
          "output_type": "execute_result",
          "data": {
            "text/plain": [
              "'Area A has a higher occurrence rate (10.89 per 1,000) compared to Area B (3.53 per 1,000).'"
            ],
            "application/vnd.google.colaboratory.intrinsic+json": {
              "type": "string"
            }
          },
          "metadata": {},
          "execution_count": 97
        }
      ],
      "source": [
        "diff_in_rate_normalized(5, 459, 30, 8500)"
      ]
    },
    {
      "cell_type": "markdown",
      "metadata": {
        "nbgrader": {
          "grade": false,
          "grade_id": "bmi",
          "locked": true,
          "schema_version": 1,
          "solution": false
        },
        "id": "TEf7bjuARR2I"
      },
      "source": [
        "### 14.3 LACE Score\n",
        "There is a simple readmission index called the LACE Score: https://www.hindawi.com/journals/bmri/2015/169870/tab1/\n",
        "\n",
        "Use this documentation to create a function that can compute LACE scores based on the 4 input parameters.  Below is the function signature and documentation that you start with."
      ]
    },
    {
      "cell_type": "code",
      "execution_count": 120,
      "metadata": {
        "nbgrader": {
          "grade": false,
          "grade_id": "bmi-answer",
          "locked": false,
          "schema_version": 1,
          "solution": true
        },
        "id": "TtsAhdq8RR2I"
      },
      "outputs": [],
      "source": [
        "def LACE(length_of_stay, acute_flag, charlson, ed_visits):\n",
        "    \"\"\"(int, bool, int, int) -> int\n",
        "    This function uses the logic from https://www.hindawi.com/journals/bmri/2015/169870/tab1/\n",
        "    to compute the LACE score for this patient.\n",
        "\n",
        "    >>> LACE(2, False, 0, 1)\n",
        "    2\n",
        "\n",
        "    >>> LACE(5, True, 2, 3)\n",
        "    10\n",
        "\n",
        "    \"\"\"\n",
        "    ###BEGIN SOLUTION\n",
        "    if length_of_stay >= 9:\n",
        "        los_points = 5\n",
        "    elif length_of_stay >= 7:\n",
        "        los_points = 4\n",
        "    elif length_of_stay >= 5:\n",
        "        los_points = 3\n",
        "    elif length_of_stay >= 3:\n",
        "        los_points = 2\n",
        "    else:\n",
        "        los_points = 1\n",
        "\n",
        "    # Acute Flag points\n",
        "    acute_points = 1 if acute_flag else 0\n",
        "\n",
        "    # Charlson Comorbidity Index points (assume it is used as-is)\n",
        "    charlson_points = charlson\n",
        "\n",
        "    # ED Visits points\n",
        "    if ed_visits >= 4:\n",
        "        ed_points = 3\n",
        "    elif ed_visits >= 2:\n",
        "        ed_points = 2\n",
        "    else:\n",
        "        ed_points = 1\n",
        "\n",
        "    # Total LACE score\n",
        "    score = los_points + acute_points + charlson_points + ed_points\n",
        "    ###END SOLUTION\n",
        "    return score\n",
        "\n",
        "\n",
        ""
      ]
    },
    {
      "cell_type": "code",
      "execution_count": 125,
      "metadata": {
        "nbgrader": {
          "grade": true,
          "grade_id": "bmi-test",
          "locked": true,
          "points": 10,
          "schema_version": 1,
          "solution": false
        },
        "id": "Dazf8yP2RR2I",
        "outputId": "7fb04414-0f62-49eb-ace0-f953d56e5167",
        "colab": {
          "base_uri": "https://localhost:8080/"
        }
      },
      "outputs": [
        {
          "output_type": "execute_result",
          "data": {
            "text/plain": [
              "False"
            ]
          },
          "metadata": {},
          "execution_count": 125
        }
      ],
      "source": [
        " LACE(2, False, 0, 1) == 2\n",
        " LACE(5, True, 2, 3) == 10"
      ]
    },
    {
      "cell_type": "code",
      "execution_count": 126,
      "metadata": {
        "id": "sntXlpcmRR2I",
        "outputId": "827631f3-380b-410f-cb85-66062d1ae649",
        "colab": {
          "base_uri": "https://localhost:8080/"
        }
      },
      "outputs": [
        {
          "output_type": "execute_result",
          "data": {
            "text/plain": [
              "False"
            ]
          },
          "metadata": {},
          "execution_count": 126
        }
      ],
      "source": [
        "LACE(5, True, 2, 3) == 10"
      ]
    },
    {
      "cell_type": "code",
      "source": [
        " LACE(2, False, 0, 1) == 2"
      ],
      "metadata": {
        "id": "bc89m6u7agAC",
        "outputId": "8f5c788e-1db2-4ea0-c731-e5022eb30a2c",
        "colab": {
          "base_uri": "https://localhost:8080/"
        }
      },
      "execution_count": 127,
      "outputs": [
        {
          "output_type": "execute_result",
          "data": {
            "text/plain": [
              "True"
            ]
          },
          "metadata": {},
          "execution_count": 127
        }
      ]
    },
    {
      "cell_type": "markdown",
      "metadata": {
        "nbgrader": {
          "grade": false,
          "grade_id": "weight",
          "locked": true,
          "schema_version": 1,
          "solution": false
        },
        "id": "cr0dRMTDRR2I"
      },
      "source": [
        "### 14.4 Care Management Criteria\n",
        "\n",
        "Care managers use LACE as part of the criteria for assigning a care coodinator to a patient who has been recently discharged. If the score is above 10, then a care coordinator will be assigned. The other criteria they use is if the patient has been discharged with a diagnosis of CHF or COPD.  If the diagnosis field has CHF or COPD in it, then the patient will have a care coordinator assigned.\n",
        "\n",
        "For this exercise, write another function that takes the same inputs as LACE() plus another diagnosis parameter, and return True or False depending on if the paient needs a care coordinator.\n",
        "\n",
        "**NOTE** Pay attention to the fact that the order of parameters in this function definition are not the same as the order they were in the LACE score.  "
      ]
    },
    {
      "cell_type": "code",
      "execution_count": 102,
      "metadata": {
        "nbgrader": {
          "grade": false,
          "grade_id": "weight-answer",
          "locked": false,
          "schema_version": 1,
          "solution": true
        },
        "id": "PwB6Yo53RR2I"
      },
      "outputs": [],
      "source": [
        "def assign_care_coordinator(diagnosis_cd, ed_visits, length_of_stay, acute_flag, charlson):\n",
        "    \"\"\" (str, int, int, bool, int) -> bool\n",
        "    Care managers use LACE as part of the criteria for assigning a care coodinator to a\n",
        "    patient who has been recently discharged. If the score is above 10, then a care\n",
        "    coordinator will be assigned. The other criteria they use is if the patient has been\n",
        "    discharged with a diagnosis of CHF or COPD. If the diagnosis field has CHF or COPD in\n",
        "    it, then the patient will have a care coordinator assigned.\n",
        "\n",
        "    >>> assign_care_coordinator('None', 0, 4, False, 1)\n",
        "    False\n",
        "\n",
        "    >>> assign_care_coordinator('CHF', 0, 4, False, 1)\n",
        "    True\n",
        "\n",
        "    >>> assign_care_coordinator('COPD', 0, 4, False, 1)\n",
        "    True\n",
        "\n",
        "    >>> assign_care_coordinator('None', 7, 4, True, 4)\n",
        "    True\n",
        "\n",
        "    >>> assign_care_coordinator('CHF', 7, 4, True, 4)\n",
        "    True\n",
        "    \"\"\"\n",
        "    ###BEGIN SOLUTION\n",
        "    if diagnosis_cd == 'COPD' or diagnosis_cd == 'CHF':\n",
        "        assignment = True\n",
        "    else:\n",
        "        assignment = False\n",
        "    ###END SOLUTION\n",
        "    return assignment\n",
        "\n",
        ""
      ]
    },
    {
      "cell_type": "code",
      "execution_count": 134,
      "metadata": {
        "nbgrader": {
          "grade": true,
          "grade_id": "weight-tests",
          "locked": true,
          "points": 5,
          "schema_version": 1,
          "solution": false
        },
        "id": "p6mWsmJyRR2J",
        "outputId": "48173778-f749-4eeb-a5ed-cecb2fdf0b29",
        "colab": {
          "base_uri": "https://localhost:8080/"
        }
      },
      "outputs": [
        {
          "output_type": "execute_result",
          "data": {
            "text/plain": [
              "True"
            ]
          },
          "metadata": {},
          "execution_count": 134
        }
      ],
      "source": [
        " assign_care_coordinator('None', 0, 4, False, 1) == False\n",
        " assign_care_coordinator('CHF', 0, 4, False, 1) == True\n",
        " assign_care_coordinator('COPD', 0, 4, False, 1) == True\n",
        "assign_care_coordinator('None', 7, 4, True, 4) == True\n",
        " assign_care_coordinator('CHF', 7, 4, True, 4) == True"
      ]
    },
    {
      "cell_type": "code",
      "execution_count": 129,
      "metadata": {
        "id": "EbEI_NtRRR2J",
        "outputId": "126ad337-cd02-46f4-e54e-bb8576e37bf7",
        "colab": {
          "base_uri": "https://localhost:8080/"
        }
      },
      "outputs": [
        {
          "output_type": "execute_result",
          "data": {
            "text/plain": [
              "True"
            ]
          },
          "metadata": {},
          "execution_count": 129
        }
      ],
      "source": [
        "assign_care_coordinator('None', 0, 4, False, 1) == False"
      ]
    },
    {
      "cell_type": "code",
      "source": [
        "assign_care_coordinator('CHF', 0, 4, False, 1) == True"
      ],
      "metadata": {
        "id": "zgeN-rBnav8D",
        "outputId": "4816b061-adab-436f-db45-ba071c7877e3",
        "colab": {
          "base_uri": "https://localhost:8080/"
        }
      },
      "execution_count": 130,
      "outputs": [
        {
          "output_type": "execute_result",
          "data": {
            "text/plain": [
              "True"
            ]
          },
          "metadata": {},
          "execution_count": 130
        }
      ]
    },
    {
      "cell_type": "code",
      "source": [
        "assign_care_coordinator('COPD', 0, 4, False, 1) == True"
      ],
      "metadata": {
        "id": "qhdFPc9Xa1LK",
        "outputId": "a78d95e0-870a-4efe-c021-e6f2e2fc2b1d",
        "colab": {
          "base_uri": "https://localhost:8080/"
        }
      },
      "execution_count": 131,
      "outputs": [
        {
          "output_type": "execute_result",
          "data": {
            "text/plain": [
              "True"
            ]
          },
          "metadata": {},
          "execution_count": 131
        }
      ]
    },
    {
      "cell_type": "code",
      "source": [
        "assign_care_coordinator('None', 7, 4, True, 4) == True"
      ],
      "metadata": {
        "id": "woMGZyAna5IY",
        "outputId": "d16fb841-41fa-4dca-d6cc-8d77a805f8a3",
        "colab": {
          "base_uri": "https://localhost:8080/"
        }
      },
      "execution_count": 132,
      "outputs": [
        {
          "output_type": "execute_result",
          "data": {
            "text/plain": [
              "False"
            ]
          },
          "metadata": {},
          "execution_count": 132
        }
      ]
    },
    {
      "cell_type": "code",
      "source": [
        " assign_care_coordinator('CHF', 7, 4, True, 4) == True"
      ],
      "metadata": {
        "id": "wELTA3gea9tE",
        "outputId": "dc262f9e-1f14-4cda-9a36-e165c652ab1e",
        "colab": {
          "base_uri": "https://localhost:8080/"
        }
      },
      "execution_count": 133,
      "outputs": [
        {
          "output_type": "execute_result",
          "data": {
            "text/plain": [
              "True"
            ]
          },
          "metadata": {},
          "execution_count": 133
        }
      ]
    },
    {
      "cell_type": "markdown",
      "metadata": {
        "id": "CEqr7mDqRR2J"
      },
      "source": [
        "### 14.5 qCSI COVID-19 Severity Index\n",
        "\n",
        "See: https://www.mdcalc.com/quick-covid-19-severity-index-qcsi#evidence\n",
        "\n",
        "Calculate the total risk score as per the point values assigned to respiratory rate, pulse oximetry, and O2 flow rate.  Then calculate and return the Risk Level.\n",
        "\n",
        "In addition to the rules provided at the link above, also add the following checks for valid values:\n",
        "* If `respiratory_rate <= 0` then return _invalid respiratory rate_\n",
        "* If `pulse_ox <= 0` then return _invalid pulse ox_\n",
        "* If `pulse_ox > 100` then return _invalid pulse ox_\n",
        "* If `os_flow <= 0` then return _invalid O2 flow rate_"
      ]
    },
    {
      "cell_type": "code",
      "execution_count": 142,
      "metadata": {
        "id": "RyUO-Vn3RR2J"
      },
      "outputs": [],
      "source": [
        "def qcsi(respiratory_rate, pulse_ox, o2_flow):\n",
        "    \"\"\"(int, int, int) -> str\n",
        "    Calculate the Quick COVID-19 Severity Index (QCSI) risk score and return the risk level based on provided values.\n",
        "\n",
        "    Parameters:\n",
        "    - respiratory_rate: Number of breaths per minute\n",
        "    - pulse_ox: Blood oxygen saturation percentage\n",
        "    - o2_flow: Oxygen flow rate in liters per minute\n",
        "\n",
        "    Returns:\n",
        "    - Risk level as a string or an error message for invalid inputs.\n",
        "\n",
        "    Invalid values:\n",
        "    - Respiratory rate <= 0: \"invalid respiratory rate\"\n",
        "    - Pulse ox <= 0 or > 100: \"invalid pulse ox\"\n",
        "    - O2 flow rate <= 0: \"invalid O2 flow rate\"\n",
        "\n",
        "    Risk levels are determined by total risk score calculated from:\n",
        "    - Respiratory rate: 0-30 (0-4 points), 31+ (5-10 points)\n",
        "    - Pulse oximetry: 100-93% (0-3 points), <93% (4-6 points)\n",
        "    - O2 flow rate: 0-1 L/min (0-2 points), 2+ L/min (3-6 points)\n",
        "\n",
        "    >>> qcsi(28, 95, 1)\n",
        "    'Low Risk'\n",
        "\n",
        "    >>> qcsi(35, 88, 4)\n",
        "    'High Risk'\n",
        "\n",
        "    >>> qcsi(20, 92, 2)\n",
        "    'Moderate Risk'\n",
        "\n",
        "    >>> qcsi(0, 95, 1)\n",
        "    'invalid respiratory rate'\n",
        "\n",
        "    >>> qcsi(25, 105, 2)\n",
        "    'invalid pulse ox'\n",
        "\n",
        "    >>> qcsi(30, 90, -1)\n",
        "    'invalid O2 flow rate'\n",
        "    \"\"\"\n",
        "\n",
        "    # Validate inputs\n",
        "    if respiratory_rate <= 0:\n",
        "        return 'invalid respiratory rate'\n",
        "    if pulse_ox <= 0 or pulse_ox > 100:\n",
        "        return 'invalid pulse ox'\n",
        "    if o2_flow <= 0:\n",
        "        return 'invalid O2 flow rate'\n",
        "\n",
        "    # Calculate points for respiratory rate\n",
        "    if respiratory_rate <= 30:\n",
        "        resp_points = 0 if respiratory_rate >= 30 else 1\n",
        "    else:\n",
        "        resp_points = 5 + min((respiratory_rate - 30) // 10, 5)\n",
        "\n",
        "    # Calculate points for pulse oximetry\n",
        "    if pulse_ox >= 93:\n",
        "        ox_points = 0 if pulse_ox >= 97 else 1 + (97 - pulse_ox) // 1\n",
        "    else:\n",
        "        ox_points = 4 + min((93 - pulse_ox) // 1, 2)\n",
        "\n",
        "    # Calculate points for O2 flow rate\n",
        "    if o2_flow == 1:\n",
        "        flow_points = 2\n",
        "    elif o2_flow == 2:\n",
        "        flow_points = 3\n",
        "    elif o2_flow >= 3:\n",
        "        flow_points = 4 + min((o2_flow - 3) // 1, 2)\n",
        "\n",
        "    # Calculate total risk score\n",
        "    total_score = resp_points + ox_points + flow_points\n",
        "\n",
        "    # Determine risk level based on total score\n",
        "    if total_score >= 12:\n",
        "        return 'High Risk'\n",
        "    elif total_score >= 7:\n",
        "        return 'Moderate Risk'\n",
        "    else:\n",
        "        return 'Low Risk'\n",
        "\n",
        "\n"
      ]
    },
    {
      "cell_type": "code",
      "execution_count": 143,
      "metadata": {
        "id": "6Jrur42zRR2J",
        "outputId": "059a92fd-680c-4c18-dfd6-ace026b383b4",
        "colab": {
          "base_uri": "https://localhost:8080/"
        }
      },
      "outputs": [
        {
          "output_type": "stream",
          "name": "stdout",
          "text": [
            "Low Risk\n",
            "High Risk\n",
            "Moderate Risk\n",
            "invalid respiratory rate\n",
            "invalid pulse ox\n",
            "invalid O2 flow rate\n"
          ]
        }
      ],
      "source": [
        "print(qcsi(28, 95, 1))  # Low Risk\n",
        "print(qcsi(35, 88, 4))  # High Risk\n",
        "print(qcsi(20, 92, 2))  # Moderate Risk\n",
        "print(qcsi(0, 95, 1))   # invalid respiratory rate\n",
        "print(qcsi(25, 105, 2)) # invalid pulse ox\n",
        "print(qcsi(30, 90, -1))"
      ]
    },
    {
      "cell_type": "markdown",
      "metadata": {
        "id": "T5f3behJRR2J"
      },
      "source": [
        "---\n",
        "\n",
        "## Check your work above\n",
        "\n",
        "If you didn't get them all correct, take a few minutes to think through those that aren't correct.\n",
        "\n",
        "\n",
        "## Submitting Your Work\n",
        "\n",
        "In order to submit your work, you'll need to save this notebook file back to GitHub.  To do that in Google Colab:\n",
        "1. File -> Save a Copy in GitHub\n",
        "2. Make sure your HDS5210 repository is selected\n",
        "3. Make sure the file name includes the week number like this: `week03/week03_assignment_2.ipynb`\n",
        "4. Add a commit message that means something\n",
        "\n",
        "**Be sure week names are lowercase and use a two digit week number!!**\n",
        "\n",
        "**Be sure you use the same file name provided by the instructor!!**\n",
        "\n"
      ]
    },
    {
      "cell_type": "markdown",
      "metadata": {
        "id": "zcao-dWDRR2J"
      },
      "source": [
        "---"
      ]
    }
  ],
  "metadata": {
    "celltoolbar": "Create Assignment",
    "kernelspec": {
      "display_name": "Python 3",
      "language": "python",
      "name": "python3"
    },
    "language_info": {
      "codemirror_mode": {
        "name": "ipython",
        "version": 3
      },
      "file_extension": ".py",
      "mimetype": "text/x-python",
      "name": "python",
      "nbconvert_exporter": "python",
      "pygments_lexer": "ipython3",
      "version": "3.6.7"
    },
    "colab": {
      "provenance": []
    }
  },
  "nbformat": 4,
  "nbformat_minor": 0
}