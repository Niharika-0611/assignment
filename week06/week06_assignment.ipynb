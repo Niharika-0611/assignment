{
  "cells": [
    {
      "cell_type": "markdown",
      "metadata": {
        "nbgrader": {
          "grade": false,
          "grade_id": "intro",
          "locked": true,
          "schema_version": 1,
          "solution": false
        },
        "id": "g4v2CSULhiFC"
      },
      "source": [
        "# Week 6 Exercises\n",
        "\n",
        "_McKinney 6.1_\n",
        "\n",
        "There are multiple ways to solve the problems below.  You can use any one of several approaches.  For example, you can read CSV files using Pandas or the csv module.  Your score won't depend on which modules you choose to use unless explicitly noted below, but your programming style will still matter."
      ]
    },
    {
      "cell_type": "markdown",
      "metadata": {
        "nbgrader": {
          "grade": false,
          "grade_id": "q1-description",
          "locked": true,
          "schema_version": 1,
          "solution": false
        },
        "id": "zi6uyKaNhiFE"
      },
      "source": [
        "### 30.1 List of Allergies\n",
        "\n",
        "In the /data directory on the Jupyter server, there is a file called `allergies.json` that contains a list of patient allergies.  It is taken from sample data provided by the EHR vendor, Epic, here: https://open.epic.com/Clinical/Allergy\n",
        "\n",
        "Take some time to look at the structure of the file.  You can open it directly in Jupyter by clicking the _Home_ icon, then the _from_instructor_ folder, and then the _data_ folder.\n",
        "\n",
        "Within the file, you'll see that it is a dictionary with many items in it.  One of those items is called `entry` and that item is a list of things.  You can tell that because the item name is immediately followed by an opening square bracket, signifying the start of a list.  It's line 11 of the file: `  \"entry\": [`\n",
        "\n",
        "Write a function named `allergy_count(json_file)` that takes as one parameter the name of the JSON file and returns an integer number of entries in that file.  Your function should open the file, read the json into a Python object, and return how many items there are in the list of `entry`s."
      ]
    },
    {
      "cell_type": "code",
      "execution_count": 109,
      "metadata": {
        "id": "t86Mcc2chiFE"
      },
      "outputs": [],
      "source": [
        "import json\n",
        "ALLERGIES_FILE=\"allergies.json\""
      ]
    },
    {
      "cell_type": "code",
      "execution_count": 110,
      "metadata": {
        "nbgrader": {
          "grade": false,
          "grade_id": "q1-answer",
          "locked": false,
          "schema_version": 1,
          "solution": true
        },
        "id": "vHa1gnSThiFF"
      },
      "outputs": [],
      "source": [
        "# Put your solution here\n",
        "\n",
        "ALLERGIES_FILE = \"allergies.json\"\n",
        "\n",
        "def allergy_count(json_file):\n",
        "    with open(json_file, 'r') as f:\n",
        "        data = json.load(f)\n",
        "        return len(data.get('entry', []))\n",
        "\n"
      ]
    },
    {
      "cell_type": "code",
      "execution_count": 111,
      "metadata": {
        "id": "EzqoBv1nhiFF",
        "outputId": "28c362a2-9dd6-4ec9-c8de-594faac40ff7",
        "colab": {
          "base_uri": "https://localhost:8080/"
        }
      },
      "outputs": [
        {
          "output_type": "execute_result",
          "data": {
            "text/plain": [
              "4"
            ]
          },
          "metadata": {},
          "execution_count": 111
        }
      ],
      "source": [
        "allergy_count(ALLERGIES_FILE)"
      ]
    },
    {
      "cell_type": "code",
      "execution_count": 112,
      "metadata": {
        "nbgrader": {
          "grade": true,
          "grade_id": "q1-tests",
          "locked": true,
          "points": 5,
          "schema_version": 1,
          "solution": false
        },
        "id": "1cIg48M9hiFF"
      },
      "outputs": [],
      "source": [
        "assert type(allergy_count(ALLERGIES_FILE)) == int\n",
        "assert allergy_count(ALLERGIES_FILE) == 4"
      ]
    },
    {
      "cell_type": "markdown",
      "metadata": {
        "id": "IbMAHidWhiFF"
      },
      "source": [
        "### 30.2 Number of Patients\n",
        "\n",
        "If you dig a little bit deaper into this list of allergies, you'll see that each result has a patient associated with it.  Create a funcation called `patient_count(json_file)` that will count how many unique patients we have in this JSON structure.  "
      ]
    },
    {
      "cell_type": "code",
      "execution_count": 113,
      "metadata": {
        "id": "S8HywlzRhiFG"
      },
      "outputs": [],
      "source": [
        "# Put your solution here\n",
        "\n",
        "def patient_count(json_file):\n",
        "    with open(json_file, 'r') as f:\n",
        "        data = json.load(f)\n",
        "        patients = {entry['resource']['patient']['reference'] for entry in data.get('entry', [])}\n",
        "        return len(patients)\n",
        "\n",
        "ALLERGIES_FILE = 'allergies.json'\n"
      ]
    },
    {
      "cell_type": "code",
      "execution_count": 114,
      "metadata": {
        "id": "Uwr_7i9KhiFG",
        "outputId": "d746a248-51b4-4ea4-a48d-00aa3e092126",
        "colab": {
          "base_uri": "https://localhost:8080/"
        }
      },
      "outputs": [
        {
          "output_type": "execute_result",
          "data": {
            "text/plain": [
              "2"
            ]
          },
          "metadata": {},
          "execution_count": 114
        }
      ],
      "source": [
        "patient_count(ALLERGIES_FILE)"
      ]
    },
    {
      "cell_type": "code",
      "execution_count": 115,
      "metadata": {
        "id": "SX7W1Fl6hiFG"
      },
      "outputs": [],
      "source": [
        "assert type(patient_count(ALLERGIES_FILE)) == int\n",
        "assert patient_count(ALLERGIES_FILE) == 2"
      ]
    },
    {
      "cell_type": "markdown",
      "metadata": {
        "id": "NpSVXk4nhiFG"
      },
      "source": [
        "### 30.3 How Many Allergies per Patient\n",
        "\n",
        "Although each entry is a separate allergy, several of them are for the same patient.  Write a function called `allergy_per_patient(json_file)` that counts up how many allergies each patient has.\n"
      ]
    },
    {
      "cell_type": "code",
      "execution_count": 116,
      "metadata": {
        "id": "nws5cN08hiFG"
      },
      "outputs": [],
      "source": [
        "# Put your solution here\n",
        "from collections import defaultdict\n",
        "import json\n",
        "def allergy_per_patient(json_file):\n",
        "\n",
        "    with open(json_file, 'r') as f:\n",
        "        data = json.load(f)\n",
        "        allergy_counts = defaultdict(int)\n",
        "\n",
        "        # Loop through each entry and count allergies per patient\n",
        "        for entry in data.get('entry', []):\n",
        "           # Extract patient name from the 'resource' section\n",
        "            patient_name = entry['resource']['patient']['display']\n",
        "            allergy_counts[patient_name] += 1\n",
        "\n",
        "        return dict(allergy_counts)\n",
        ""
      ]
    },
    {
      "cell_type": "code",
      "execution_count": 117,
      "metadata": {
        "id": "J82MXwcahiFG",
        "outputId": "6fb3a674-c5b9-4e45-c81d-e43e998377f7",
        "colab": {
          "base_uri": "https://localhost:8080/"
        }
      },
      "outputs": [
        {
          "output_type": "execute_result",
          "data": {
            "text/plain": [
              "{'Jason Argonaut': 3, 'Paul Boal': 1}"
            ]
          },
          "metadata": {},
          "execution_count": 117
        }
      ],
      "source": [
        "allergy_per_patient(ALLERGIES_FILE)"
      ]
    },
    {
      "cell_type": "code",
      "execution_count": 118,
      "metadata": {
        "id": "t6VxVHlthiFG"
      },
      "outputs": [],
      "source": [
        "assert type(allergy_per_patient(ALLERGIES_FILE)) == dict\n",
        "assert allergy_per_patient(ALLERGIES_FILE) == {'Paul Boal': 1, 'Jason Argonaut': 3}"
      ]
    },
    {
      "cell_type": "markdown",
      "metadata": {
        "nbgrader": {
          "grade": false,
          "grade_id": "q2-question",
          "locked": true,
          "schema_version": 1,
          "solution": false
        },
        "id": "QbbOSd0UhiFG"
      },
      "source": [
        "### 30.4 Patient Allergies and Reaction\n",
        "\n",
        "You'll see in the file that each of the items in the `entry` list have several other attributes including a patient name, substance text representation, and a reaction manifestation.  Create a function named `allergy_list(json_file)` that will create an output list that has patient name, allergy, and reaction for each `entry`.  The actual result you should get will be:\n",
        "\n",
        "```python\n",
        "[['Jason Argonaut', 'PENICILLIN G', 'Hives'],\n",
        " ['Paul Boal', 'PENICILLIN G', 'Bruising'],\n",
        " ['Jason Argonaut', 'SHELLFISH-DERIVED PRODUCTS', 'Itching'],\n",
        " ['Jason Argonaut', 'STRAWBERRY', 'Anaphylaxis']]\n",
        "```\n",
        "\n",
        "You'll notice that the reaction and the manifestation of that action are lists.  You only need to capture the first reaction and the first manifestation of the action.  That is, if there is a list of things, just output the first one."
      ]
    },
    {
      "cell_type": "code",
      "execution_count": 119,
      "metadata": {
        "nbgrader": {
          "grade": false,
          "grade_id": "q2-answer",
          "locked": false,
          "schema_version": 1,
          "solution": true
        },
        "id": "WGJerhjghiFH"
      },
      "outputs": [],
      "source": [
        "# Put your solution here\n",
        "import json\n",
        "\n",
        "def allergy_list(json_file):\n",
        "    with open(json_file, 'r') as f:\n",
        "        data = json.load(f)\n",
        "\n",
        "    allergy_summary = []\n",
        "\n",
        "    for entry in data['entry']:\n",
        "        resource = entry['resource']\n",
        "        patient = resource['patient']['display']\n",
        "        substance = resource['substance']['text']\n",
        "        if 'reaction' in resource and resource['reaction']:\n",
        "          first_reaction = resource['reaction'][0]\n",
        "        if 'manifestation' in first_reaction and first_reaction['manifestation']:\n",
        "            first_manifestation = first_reaction['manifestation'][0]['text']\n",
        "            # Append only the patient, substance, and first manifestation as a list\n",
        "            allergy_summary.append([patient, substance, first_manifestation])\n",
        "\n",
        "\n",
        "    return allergy_summary"
      ]
    },
    {
      "cell_type": "code",
      "execution_count": 120,
      "metadata": {
        "id": "6wf6zzxYhiFH",
        "outputId": "11938cbf-770d-4866-d4c1-fc8efe92f371",
        "colab": {
          "base_uri": "https://localhost:8080/"
        }
      },
      "outputs": [
        {
          "output_type": "execute_result",
          "data": {
            "text/plain": [
              "[['Jason Argonaut', 'PENICILLIN G', 'Hives'],\n",
              " ['Paul Boal', 'PENICILLIN G', 'Bruising'],\n",
              " ['Jason Argonaut', 'SHELLFISH-DERIVED PRODUCTS', 'Itching'],\n",
              " ['Jason Argonaut', 'STRAWBERRY', 'Anaphylaxis']]"
            ]
          },
          "metadata": {},
          "execution_count": 120
        }
      ],
      "source": [
        "allergy_list(ALLERGIES_FILE)"
      ]
    },
    {
      "cell_type": "code",
      "execution_count": 121,
      "metadata": {
        "nbgrader": {
          "grade": true,
          "grade_id": "q2-tests",
          "locked": true,
          "points": 10,
          "schema_version": 1,
          "solution": false
        },
        "id": "WOmmBeFJhiFH"
      },
      "outputs": [],
      "source": [
        "assert (allergy_list(ALLERGIES_FILE)) == [['Jason Argonaut', 'PENICILLIN G', 'Hives'],\n",
        " ['Paul Boal', 'PENICILLIN G', 'Bruising'],\n",
        " ['Jason Argonaut', 'SHELLFISH-DERIVED PRODUCTS', 'Itching'],\n",
        " ['Jason Argonaut', 'STRAWBERRY', 'Anaphylaxis']]"
      ]
    },
    {
      "cell_type": "markdown",
      "metadata": {
        "nbgrader": {
          "grade": false,
          "grade_id": "q3-question",
          "locked": true,
          "schema_version": 1,
          "solution": false
        },
        "id": "mdHXp1-8hiFH"
      },
      "source": [
        "### 30.5 Allergy Reaction\n",
        "\n",
        "Write a function called `allergy_reaction(json_file,patient,substance)` that takes three parameter and returns the reaction that will happen if the patient takes the specified substance.  You can solve this, in part, by calling your `allergy_list` function inside your new `allergy_reaction` function.\n",
        "\n",
        "If the substance is not found in the allergy list, the function should return None."
      ]
    },
    {
      "cell_type": "code",
      "execution_count": 122,
      "metadata": {
        "nbgrader": {
          "grade": false,
          "grade_id": "q3-answer",
          "locked": false,
          "schema_version": 1,
          "solution": true
        },
        "id": "aU9JKBSUhiFH"
      },
      "outputs": [],
      "source": [
        "# Put your solution here\n",
        "import json\n",
        "\n",
        "def allergy_list(json_file):\n",
        "    with open(json_file, 'r') as f:\n",
        "        data = json.load(f)  # Load the JSON data into a Python object\n",
        "        result_list = []\n",
        "\n",
        "        # Loop through each entry to create the output list\n",
        "        for entry in data.get('entry', []):\n",
        "            patient_name = entry['resource']['patient']['display']  # Get the patient name\n",
        "            allergy = entry['resource']['substance']['text']  # Get the substance text\n",
        "            # Get the first reaction and first manifestation if available\n",
        "            reaction = entry['resource']['reaction'][0]['manifestation'][0]['text'] if entry['resource']['reaction'] else None\n",
        "\n",
        "            result_list.append([patient_name, allergy, reaction])  # Append to the result list\n",
        "\n",
        "        return result_list\n",
        "\n",
        "def allergy_reaction(json_file, patient, substance):\n",
        "    # Call the allergy_list function to get the allergy information\n",
        "    allergy_data = allergy_list(json_file)\n",
        "\n",
        "    # Search for the specified patient and substance in the allergy data\n",
        "    for entry in allergy_data:\n",
        "        if entry[0] == patient and entry[1] == substance:\n",
        "            return entry[2]  # Return the reaction if found\n",
        "\n",
        "    return None\n"
      ]
    },
    {
      "cell_type": "code",
      "execution_count": 123,
      "metadata": {
        "id": "eHjUUctlhiFH",
        "outputId": "6304cec4-2312-431b-c169-e04d814e1536",
        "colab": {
          "base_uri": "https://localhost:8080/",
          "height": 35
        }
      },
      "outputs": [
        {
          "output_type": "execute_result",
          "data": {
            "text/plain": [
              "'Hives'"
            ],
            "application/vnd.google.colaboratory.intrinsic+json": {
              "type": "string"
            }
          },
          "metadata": {},
          "execution_count": 123
        }
      ],
      "source": [
        "allergy_reaction(ALLERGIES_FILE, 'Jason Argonaut', 'PENICILLIN G')"
      ]
    },
    {
      "cell_type": "code",
      "execution_count": 124,
      "metadata": {
        "nbgrader": {
          "grade": true,
          "grade_id": "q3-tests",
          "locked": true,
          "points": 5,
          "schema_version": 1,
          "solution": false
        },
        "id": "T6V-zTPehiFH"
      },
      "outputs": [],
      "source": [
        "assert allergy_reaction(ALLERGIES_FILE, 'Jason Argonaut', 'PENICILLIN G') == 'Hives'\n",
        "assert allergy_reaction(ALLERGIES_FILE, 'Jason Argonaut', 'SHELLFISH-DERIVED PRODUCTS') == 'Itching'\n",
        "assert allergy_reaction(ALLERGIES_FILE, 'Jason Argonaut', 'STRAWBERRY') == 'Anaphylaxis'\n",
        "assert allergy_reaction(ALLERGIES_FILE, 'Jason Argonaut', 'PENICILLIN') == None\n",
        "assert allergy_reaction(ALLERGIES_FILE, 'Paul Boal', 'PENICILLIN G') == 'Bruising'"
      ]
    },
    {
      "cell_type": "markdown",
      "metadata": {
        "id": "coCcTkfqhiFH"
      },
      "source": [
        "---\n",
        "\n",
        "## Check your work above\n",
        "\n",
        "If you didn't get them all correct, take a few minutes to think through those that aren't correct.\n",
        "\n",
        "\n",
        "## Submitting Your Work\n",
        "\n",
        "In order to submit your work, you'll need to save this notebook file back to GitHub.  To do that in Google Colab:\n",
        "1. File -> Save a Copy in GitHub\n",
        "2. Make sure your HDS5210 repository is selected\n",
        "3. Make sure the file name includes the week number like this: `week06/week06_assignment_2.ipynb`\n",
        "4. Add a commit message that means something\n",
        "\n",
        "**Be sure week names are lowercase and use a two digit week number!!**\n",
        "\n",
        "**Be sure you use the same file name provided by the instructor!!**\n",
        "\n"
      ]
    }
  ],
  "metadata": {
    "celltoolbar": "Create Assignment",
    "kernelspec": {
      "display_name": "Python 3",
      "language": "python",
      "name": "python3"
    },
    "language_info": {
      "codemirror_mode": {
        "name": "ipython",
        "version": 3
      },
      "file_extension": ".py",
      "mimetype": "text/x-python",
      "name": "python",
      "nbconvert_exporter": "python",
      "pygments_lexer": "ipython3",
      "version": "3.9.16"
    },
    "colab": {
      "provenance": []
    }
  },
  "nbformat": 4,
  "nbformat_minor": 0
}