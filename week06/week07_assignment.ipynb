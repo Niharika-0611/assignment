{
  "cells": [
    {
      "cell_type": "markdown",
      "metadata": {
        "id": "oNrVFG-4vXlR"
      },
      "source": [
        "# Week 7 Assignment\n",
        "\n",
        "We've been working with different types of data structures in Python (dictionary, list, etc), how those are represented in JSON documents, and how to write code to access specific data elements. In this week's assignment, you will need to create your own JSON document to store information about yourself and the grades you've received from week 1 to week 4 and the week 6 quiz.  That is, everything you should have received a grade for.  Then you'll need to show me you know how to navigate the JSON in that file.\n",
        "\n",
        "Different from what we've done in the past, you do not have to write any functions or include any docstrings.  Just create some JSON and write some code.\n",
        "\n",
        "---"
      ]
    },
    {
      "cell_type": "markdown",
      "metadata": {
        "id": "ak9FJIx9vXlS"
      },
      "source": [
        "## 7.1 Create a JSON file\n",
        "\n",
        "Create a JSON file that contains your name, email, year you were born, all of the grades you've received back so far, and a comment about what you thought was most challenging on each of those assignments.  This can be any structure you choose, but make sure it uses a dictionary and a list, and has at least two levels of hierarchy.  That is, it can't just be one big long list."
      ]
    },
    {
      "cell_type": "markdown",
      "metadata": {
        "id": "a3UuVP9avXlT"
      },
      "source": [
        "First, explain how your data structure is going to look..."
      ]
    },
    {
      "cell_type": "markdown",
      "metadata": {
        "id": "0NGmyJSMvXlT"
      },
      "source": [
        "I am going to create a JSON file which includes my personal information such as full_name, born_year and gmail. In the list section which includes under grades, I am going to include week 1 to 4 scores and week 6 inclass quiz."
      ]
    },
    {
      "cell_type": "markdown",
      "metadata": {
        "id": "GgQzO5PLvXlT"
      },
      "source": [
        "Then put the actual JSON you've created inside the multiline string below..."
      ]
    },
    {
      "cell_type": "code",
      "execution_count": 37,
      "metadata": {
        "id": "l9in5WSDvXlT",
        "outputId": "112df257-2b32-47c1-9778-faf2ece27f5d",
        "colab": {
          "base_uri": "https://localhost:8080/"
        }
      },
      "outputs": [
        {
          "output_type": "execute_result",
          "data": {
            "text/plain": [
              "{'personal_info': {'full_name': 'Niharika Somireddy',\n",
              "  'birth_year': 2002,\n",
              "  'gmail': 'niharikasomireddy@gmail.com'},\n",
              " 'grades': [{'week': 1,\n",
              "   'grade': 10,\n",
              "   'comment': 'I have understood how to set up a GitHub account and add collaborators.'},\n",
              "  {'week': 2,\n",
              "   'grade': 8,\n",
              "   'comment': 'I got to know the basics of Python, like while and for loops.'},\n",
              "  {'week': 3,\n",
              "   'grade': 8,\n",
              "   'comment': 'I learned about docstrings and used them in the assignment.'},\n",
              "  {'week': 4,\n",
              "   'grade': 10,\n",
              "   'comment': 'I learned how to convert a dictionary to a list and vice versa.'},\n",
              "  {'week': 6,\n",
              "   'quiz_grade': 9,\n",
              "   'comment': 'I have attempted most of the questions in the quiz.'}]}"
            ]
          },
          "metadata": {},
          "execution_count": 37
        }
      ],
      "source": [
        "{\n",
        "  \"personal_info\": {\n",
        "    \"full_name\": \"Niharika Somireddy\",\n",
        "    \"birth_year\": 2002,\n",
        "    \"gmail\": \"niharikasomireddy@gmail.com\"\n",
        "  },\n",
        "  \"grades\": [\n",
        "    {\n",
        "      \"week\": 1,\n",
        "      \"grade\": 10,\n",
        "      \"comment\": \"I have understood how to set up a GitHub account and add collaborators.\"\n",
        "    },\n",
        "    {\n",
        "      \"week\": 2,\n",
        "      \"grade\": 8,\n",
        "      \"comment\": \"I got to know the basics of Python, like while and for loops.\"\n",
        "    },\n",
        "    {\n",
        "      \"week\": 3,\n",
        "      \"grade\": 8,\n",
        "      \"comment\": \"I learned about docstrings and used them in the assignment.\"\n",
        "    },\n",
        "    {\n",
        "      \"week\": 4,\n",
        "      \"grade\": 10,\n",
        "      \"comment\": \"I learned how to convert a dictionary to a list and vice versa.\"\n",
        "    },\n",
        "    {\n",
        "      \"week\": 6,\n",
        "      \"quiz_grade\": 9,\n",
        "      \"comment\": \"I have attempted most of the questions in the quiz.\"\n",
        "    }\n",
        "  ]\n",
        "}"
      ]
    },
    {
      "cell_type": "markdown",
      "metadata": {
        "id": "Otoq9bN_vXlU"
      },
      "source": [
        "## 7.2 Do something with your JSON\n",
        "\n",
        "Now use Python code to do something with the Json above.  Turn it into English text, but make sure that you use at least one loop to access some dict or list content of your JSON.  Below, I've provided some basic code to read in the string above as JSON and return a Python object.  Your job is to work with that data structure and print out the important information like your name, email, and how you did on each assignment."
      ]
    },
    {
      "cell_type": "code",
      "execution_count": 38,
      "metadata": {
        "id": "dmwfNuOdvXlU",
        "outputId": "5486f108-d7fb-41ac-e422-648aa155a49f",
        "colab": {
          "base_uri": "https://localhost:8080/"
        }
      },
      "outputs": [
        {
          "output_type": "stream",
          "name": "stdout",
          "text": [
            "My name is Niharika Somireddy, born in 2002. My email address is niharikasomireddy@gmail.com.For week 1, I received a grade of 10. I have understood how to set up a GitHub account and add collaborators.\n",
            " For week 2, I received a grade of 8. I got to know the basics of Python, like while and for loops.\n",
            " For week 3, I received a grade of 8. I learned about docstrings and used them in the assignment.\n",
            " For week 4, I received a grade of 10. I learned how to convert a dictionary to a list and vice versa.\n",
            " For week 6, I received a grade of 9. I have attempted most of the questions in the quiz.\n"
          ]
        }
      ],
      "source": [
        "import json\n",
        "\n",
        "hds_5120 = \"\"\"\n",
        "{\n",
        "  \"personal_info\": {\n",
        "    \"full_name\": \"Niharika Somireddy\",\n",
        "    \"birth_year\": 2002,\n",
        "    \"gmail\": \"niharikasomireddy@gmail.com\"\n",
        "  },\n",
        "  \"grades\": [\n",
        "    {\n",
        "      \"week\": 1,\n",
        "      \"grade\": 10,\n",
        "      \"comment\": \"I have understood how to set up a GitHub account and add collaborators.\"\n",
        "    },\n",
        "    {\n",
        "      \"week\": 2,\n",
        "      \"grade\": 8,\n",
        "      \"comment\": \"I got to know the basics of Python, like while and for loops.\"\n",
        "    },\n",
        "    {\n",
        "      \"week\": 3,\n",
        "      \"grade\": 8,\n",
        "      \"comment\": \"I learned about docstrings and used them in the assignment.\"\n",
        "    },\n",
        "    {\n",
        "      \"week\": 4,\n",
        "      \"grade\": 10,\n",
        "      \"comment\": \"I learned how to convert a dictionary to a list and vice versa.\"\n",
        "    },\n",
        "    {\n",
        "      \"week\": 6,\n",
        "      \"quiz_grade\": 9,\n",
        "      \"comment\": \"I have attempted most of the questions in the quiz.\"\n",
        "    }\n",
        "  ]\n",
        "}\n",
        "\"\"\"\n",
        "\n",
        "# Load JSON data into a Python dictionary\n",
        "info = json.loads(hds_5120)\n",
        "\n",
        "name = info[\"personal_info\"][\"full_name\"]\n",
        "birth_year = info[\"personal_info\"][\"birth_year\"]\n",
        "gmail = info[\"personal_info\"][\"gmail\"]\n",
        "\n",
        "# Create a list to store the grade summaries\n",
        "grades_summary = []\n",
        "\n",
        "for grade_info in info[\"grades\"]:\n",
        "    week = grade_info.get(\"week\", \"N/A\")\n",
        "    grade = grade_info.get(\"grade\", grade_info.get(\"quiz_grade\", \"N/A\"))\n",
        "    comment = grade_info[\"comment\"]\n",
        "    grades_summary.append(f\"For week {week}, I received a grade of {grade}. {comment}\")\n",
        "\n",
        "\n",
        "grade_paragraph = \"\\n \".join(grades_summary)\n",
        "\n",
        "\n",
        "result = f\"My name is {name}, born in {birth_year}. My email address is {gmail}.{grade_paragraph}\"\n",
        "print(result)\n",
        "\n",
        "# Put your code to output a paragraph of English text here"
      ]
    },
    {
      "cell_type": "markdown",
      "metadata": {
        "id": "5Nf6eNp8vXlU"
      },
      "source": [
        "## 7.3 Reflect\n",
        "\n",
        "Write a paragraph on any reflections you have. Was this hard? Easy?  What parts were most challenging or easiest? What did you like or dislike about the assignment?  Share whatever important thoughts you have abou this assignment."
      ]
    },
    {
      "cell_type": "markdown",
      "metadata": {
        "id": "XdLg3Am9vXlU"
      },
      "source": [
        "I found this week assignment was bit easy compared with other weeks. I am not a professional coder and I don't have experience in coding but I was working hard to pull up with the subject. I am learning from my mistakes and help from professors makes it somewhat easy. Still, I was confused about few things like can we change the code in assertions or not?"
      ]
    },
    {
      "cell_type": "markdown",
      "metadata": {
        "id": "ledBuSXQvXlU"
      },
      "source": [
        "---\n",
        "\n",
        "# Example\n",
        "\n",
        "Below is an example of something similar, but this uses information my and my friend's kids instead of grades."
      ]
    },
    {
      "cell_type": "code",
      "execution_count": 39,
      "metadata": {
        "id": "oPDDH4GTvXlU",
        "outputId": "ec59b9b6-7f9e-479a-f834-81764b96fc50",
        "colab": {
          "base_uri": "https://localhost:8080/"
        }
      },
      "outputs": [
        {
          "output_type": "stream",
          "name": "stdout",
          "text": [
            "Hi, my name is Paul. I've got 3 kids. Their names are Ellie, Ada, Teddy.\n",
            "My friend, Anny has 1 kids. That's fewer than me. Their names are 1\n"
          ]
        }
      ],
      "source": [
        "hds5210 = \"\"\"\n",
        "{\n",
        "    \"me\": {\n",
        "        \"name\": \"Paul\",\n",
        "        \"kids\": [\"Ellie\", \"Ada\", \"Teddy\"]\n",
        "    },\n",
        "    \"friend\": {\n",
        "        \"name\": \"Anny\",\n",
        "        \"kids\": [\"Abby\"]\n",
        "    }\n",
        "}\n",
        "\"\"\"\n",
        "\n",
        "import json\n",
        "\n",
        "info = json.loads(hds5210)\n",
        "\n",
        "me = info[\"me\"][\"name\"]\n",
        "my_kids_count = len(info[\"me\"][\"kids\"])\n",
        "kids_list = \", \".join(info[\"me\"][\"kids\"])\n",
        "friend = info[\"friend\"][\"name\"]\n",
        "friends_kid_count = len(info[\"friend\"][\"kids\"])\n",
        "friend_kids = \", \".join(info[\"friend\"][\"kids\"])\n",
        "compare = \"more\" if friends_kid_count > my_kids_count else \"fewer\"\n",
        "\n",
        "print(f\"Hi, my name is {me}. I've got {my_kids_count} kids. Their names are {kids_list}.\")\n",
        "print(f\"My friend, {friend} has {friends_kid_count} kids. That's {compare} than me. Their names are {friends_kid_count}\")"
      ]
    }
  ],
  "metadata": {
    "kernelspec": {
      "display_name": "Python 3",
      "language": "python",
      "name": "python3"
    },
    "language_info": {
      "codemirror_mode": {
        "name": "ipython",
        "version": 3
      },
      "file_extension": ".py",
      "mimetype": "text/x-python",
      "name": "python",
      "nbconvert_exporter": "python",
      "pygments_lexer": "ipython3",
      "version": "3.9.16"
    },
    "colab": {
      "provenance": []
    }
  },
  "nbformat": 4,
  "nbformat_minor": 0
}