{
  "cells": [
    {
      "cell_type": "markdown",
      "metadata": {
        "id": "zNBcbRLC966-"
      },
      "source": [
        "### Mid-term for HDS5210\n",
        "\n",
        "Your supervisor is concerned about 4-year survival risks for COPD. She has asked for you to do some analysis using a new metric, BODE. BODE is an improvement on a previous metric and promises to provide insight on survival risks.\n",
        "\n",
        "BODE is defined here. https://www.mdcalc.com/calc/3916/bode-index-copd-survival#evidence\n",
        "\n",
        "Your assignment is to create a BODE calculation, use it to calculate BODE scores and BODE survival rates for a group of patients. Then we want to evaluate the average BODE scores and BODE survival rates for each area hospital.\n",
        "\n",
        "Your patient input file will have the following columns:\n",
        "NAME,SSN,LANGUAGE,JOB,HEIGHT_M,WEIGHT_KG,fev_pct,dyspnea_description,distance_in_meters,hospital\n",
        "\n",
        "BODE calculations require a BMI value, so you will have to create a function for it.\n",
        "\n",
        "Your output should be in the form of two CSV files, patient_output.csv and hospital_output.csv.\n",
        "\n",
        "Patient_output will have the following columns:\n",
        "NAME,BODE_SCORE,BODE_RISK,HOSPITAL\n",
        "\n",
        "Hospital output will have the following columns:\n",
        "HOSPITAL_NAME, COPD_COUNT, PCT_OF_COPD_CASES_OVER_BEDS, AVG_SCORE, AVG_RISK\n",
        "\n",
        "Each function you create should have documentation and a suitable number of test cases. If the input data could be wrong, make sure to raise a Value Error.\n",
        "\n",
        "For this assignment, use the doctest, json, and csv libraries. Pandas is not allowed for this assignment."
      ]
    },
    {
      "cell_type": "code",
      "execution_count": 198,
      "metadata": {
        "id": "leFQWOQC966_"
      },
      "outputs": [],
      "source": [
        "import doctest\n",
        "import json\n",
        "import csv\n",
        "\n",
        "\n",
        "patient_csv = \"patient.csv\"\n",
        "\n",
        "all_patients = []\n",
        "with open(patient_csv, 'r') as file:\n",
        "    csv_reader = csv.DictReader(file)\n",
        "    for row in csv_reader:\n",
        "\n",
        "        row[\"name\"] = row.pop(\"NAME\")\n",
        "        row[\"weight\"] = float(row.pop(\"WEIGHT_KG\"))\n",
        "        row[\"height\"] = float(row.pop(\"HEIGHT_M\"))\n",
        "        row[\"fev_pct\"] = float(row.pop(\"fev_pct\"))\n",
        "        row[\"distance\"] = float(row.pop(\"distance_in_meters\"))\n",
        "      # add each patient to the list of patients\n",
        "        all_patients.append(dict(row))\n",
        "\n",
        "\n",
        "\n"
      ]
    },
    {
      "cell_type": "markdown",
      "metadata": {
        "id": "bPRXnxdW966_"
      },
      "source": [
        "### Step 1: Calculate BMI"
      ]
    },
    {
      "cell_type": "code",
      "execution_count": 199,
      "metadata": {
        "id": "Wh5Br0CV967A"
      },
      "outputs": [],
      "source": [
        "def cal_bmi(weight_KG, height_M):\n",
        "    '''This function calculates BMI\n",
        "    weight in kilograms\n",
        "    height in meters\n",
        "    '''\n",
        "    if weight_KG <= 0 or height_M <= 0:\n",
        "        raise ValueError(\"Weight and height must be positive\")\n",
        "\n",
        "    bmi = weight_KG / (height_M ** 2)\n",
        "    return round(bmi, 2)\n",
        "\n",
        "    # Calculate the BMI for each patient\n",
        "for patient in all_patients:\n",
        "    patient['bmi'] = cal_bmi(patient['weight'], patient['height'])\n"
      ]
    },
    {
      "cell_type": "markdown",
      "metadata": {
        "id": "WZcWmwSa967A"
      },
      "source": [
        "### Step 2: Calculate BODE Score"
      ]
    },
    {
      "cell_type": "code",
      "execution_count": 200,
      "metadata": {
        "id": "fsqAXRm9967A"
      },
      "outputs": [],
      "source": [
        "def calculate_bode_score(bmi, fev_pct, distance):\n",
        "    '''Calculate the BODE score based on BMI, FEV percentage, and distance walked'''\n",
        "    score = 0\n",
        "\n",
        "    # BMI contribution to the score\n",
        "    if bmi > 21:\n",
        "        score += 0\n",
        "    else:\n",
        "        score += 1\n",
        "\n",
        "    # FEV contribution to the score\n",
        "    if fev_pct >= 65:\n",
        "        score += 0\n",
        "    elif 50 <= fev_pct < 65:\n",
        "        score += 1\n",
        "    elif 36 <= fev_pct < 50:\n",
        "        score += 2\n",
        "    else:\n",
        "        score += 3\n",
        "\n",
        "    # Distance contribution to the score\n",
        "    if distance >= 350:\n",
        "        score += 0\n",
        "    elif 250 <= distance < 350:\n",
        "        score += 1\n",
        "    elif 150 <= distance < 250:\n",
        "        score += 2\n",
        "    else:\n",
        "        score += 3\n",
        "\n",
        "    return score\n",
        "\n",
        "# Calculate the BODE for each patient\n",
        "for patient in all_patients:\n",
        "    patient['BODE'] = calculate_bode_score(patient['bmi'], patient['fev_pct'], patient['distance'])\n"
      ]
    },
    {
      "cell_type": "markdown",
      "metadata": {
        "id": "4wY-L5Su967A"
      },
      "source": [
        "### Step 3: Calculate BODE Risk"
      ]
    },
    {
      "cell_type": "code",
      "execution_count": 201,
      "metadata": {
        "id": "dDMLPpTo967A"
      },
      "outputs": [],
      "source": [
        "def calculate_bode_risk(bode_score):\n",
        "    '''Calculate BODE risk based on BODE score'''\n",
        "    if bode_score <= 2:\n",
        "        return \"Low Risk\"\n",
        "    elif 3 <= bode_score <= 5:\n",
        "        return \"Moderate Risk\"\n",
        "    else:\n",
        "        return \"High Risk\"\n",
        "\n",
        "    # Calculate BODE risk for each patient\n",
        "for patient in all_patients:\n",
        "    patient['BODE_RISK'] = calculate_bode_risk(patient['BODE'])"
      ]
    },
    {
      "cell_type": "markdown",
      "metadata": {
        "id": "W43ilvnP967A"
      },
      "source": [
        "### Step 4: Load Hospital Data"
      ]
    },
    {
      "cell_type": "code",
      "execution_count": 202,
      "metadata": {
        "id": "VziFCKJi967A"
      },
      "outputs": [],
      "source": [
        "\n",
        "hospital_data = {}\n",
        "hospital_json = \"hospitals.json\"\n",
        "\n",
        "with open(hospital_json, 'r') as file:\n",
        "    hospitals = json.load(file)\n",
        "\n",
        "    # loop through each hospital in the file\n",
        "    for system in hospitals:\n",
        "        for hospital in system['hospitals']:\n",
        "          if hospital['name'] not in hospital_data:\n",
        "            hospital_data[hospital['name']] = {\n",
        "                'beds': hospital['beds'],\n",
        "                'copd_count': 0,\n",
        "                'total_bode_score': 0\n",
        "            }\n"
      ]
    },
    {
      "cell_type": "markdown",
      "metadata": {
        "id": "qTRWMZXw967A"
      },
      "source": [
        "### Step 5: Main business logic\n",
        "\n",
        "Call BODE Score, BODE Risk functions for each patient.\n",
        "\n",
        "For each hospital, calculate Avg BODE score and Avg BODE risk and count the number of cases for each hospital."
      ]
    },
    {
      "cell_type": "code",
      "execution_count": 203,
      "metadata": {
        "id": "N-qp7cgf967B"
      },
      "outputs": [],
      "source": [
        " patient_csv = \"patient.csv\"\n",
        " hospital_json = \"hospitals.json\"\n",
        "\n",
        " patient_output_file = \"patient_output.csv\"\n",
        " hospital_output_file = \"hospital_output.csv\"\n",
        "\n",
        "###\n",
        " for patient in all_patients:\n",
        "   if patient['hospital'] in hospital_data:\n",
        "    hospital = patient['hospital']\n",
        "    hospital_data[hospital]['copd_count'] += 1\n",
        "    hospital_data[hospital]['total_bode_score'] += patient['BODE']\n",
        "\n",
        "\n",
        "\n",
        "\n",
        " patient_results = []\n",
        " for patient in all_patients:\n",
        "    patient_results.append([patient['name'], patient['BODE'], patient['BODE_RISK'], patient['hospital']])\n",
        "\n",
        " hospital_output_list = []\n",
        " for hospital, data in hospital_data.items():\n",
        "    copd_count = data['copd_count']\n",
        "    total_beds = data['beds']\n",
        "\n",
        "   # calculations\n",
        "    avg_bode_score = data['total_bode_score'] / copd_count if copd_count > 0 else 0\n",
        "    pct_of_copd_over_beds = (copd_count / total_beds) * 100 if total_beds > 0 else 0\n",
        "    avg_bode_risk = calculate_bode_risk(avg_bode_score)\n",
        "\n",
        "    hospital_output_list.append([hospital, copd_count, pct_of_copd_over_beds, avg_bode_score, avg_bode_risk])\n",
        "\n",
        "#Write Patient_output.csv\n",
        " with open(patient_output_file, 'w', newline='') as csvfile:\n",
        "    writer = csv.writer(csvfile)\n",
        "    writer.writerows(patient_results)\n",
        "#Write Hospital_output.csv\n",
        " with open(hospital_output_file, 'w', newline='') as csvfile:\n",
        "    writer = csv.writer(csvfile)\n",
        "    writer.writerows(hospital_output_list)"
      ]
    }
  ],
  "metadata": {
    "language_info": {
      "name": "python"
    },
    "colab": {
      "provenance": []
    },
    "kernelspec": {
      "name": "python3",
      "display_name": "Python 3"
    }
  },
  "nbformat": 4,
  "nbformat_minor": 0
}