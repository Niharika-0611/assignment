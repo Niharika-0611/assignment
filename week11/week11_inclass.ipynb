{
  "cells": [
    {
      "cell_type": "markdown",
      "metadata": {
        "id": "Ysbo0oSTFZXT"
      },
      "source": [
        "# Week 11 In-Class Challenge\n",
        "\n",
        "This week, we are doing an in-class exercise.  This will be worth 5 extra credit points for each team that creates a successful solution that follows the programming guidelines we've established this semester.  All the requirements for this programming challenge are described below.  If you complete them all successfully, you will receive 5 points.  If you do not, you will receive 0 points.\n",
        "\n",
        "Work as a group.  You will all receive the same number of points.\n",
        "\n",
        "## Requirements\n",
        "1. Your code must be a function named `week11()` that takes no parameters\n",
        "2. Your `week11()` function must read this CSV from the internet and use it as input: https://hds5210-data.s3.amazonaws.com/Section111ValidICD10-Jan2024.csv\n",
        "  * This file has three columns: CODE, SHORT DESCRIPTION, LONG DESCRIPTION, and NF EXCL\n",
        "  * The NF EXCL indicates that this code is excluded from a \"no fault\" list related to workers compensation insurance claims\n",
        "3. Your `week11()` function must use Pandas functions to generate new columns and filter the dataframe using the following rules\n",
        "   * Create a new column called \"CODE TYPE\" that contains only the first character of the CODE column. For example if CODE=\"A001\" then CODE TYPE=\"A\"\n",
        "   * Create a new column called \"CODE NUM\" that contains only the numeric part of the CODE column and make it numeric. For example if CODE=\"A001\" then CODE NUM=1\n",
        "   * Some CODE NUM portions cannot be converted directly because the have an \"X\" in them.  Convert that \"X\" to a \".\" and then conver the CODE NUM to a numeric value.  For example if CODE=\"E1037X1\" then CODE NUM=1037.1\n",
        "   * Filter your results to only include those rows where NF EXCL=\"Y\"\n",
        "   * Sort your results in ascending order by CODE NUM and then by CODE TYPE\n",
        "4. Use the \"checker\" in the last cell to confirm that your results are correct.  If the checker gives any errors, you will receive no credit.\n",
        "\n",
        "\n",
        "## Submitting\n",
        "Submit the assignment by creating a folder called week11_inclass in the repository of one of the people in your group. At the top of your submission, enter the names of all of the people in your group..\n",
        "\n",
        "## Scoring Rubric\n",
        "If your code passes my checker included at the bottom of this page, each person on your team will earn 5 points.  If you code does not pass my checker, you will earn 0 points. This is \"all or nothing\" extra credit.\n",
        "\n",
        "---"
      ]
    },
    {
      "cell_type": "markdown",
      "source": [
        "The group members are Arun kumar mirala(001389216), mounika mandava(001357025), Niharika somireddy(001382896)"
      ],
      "metadata": {
        "id": "brsDfHp_R8Ui"
      }
    },
    {
      "cell_type": "code",
      "execution_count": 24,
      "metadata": {
        "id": "HzJegxj4FZXV",
        "outputId": "b54362b9-c8a0-426f-ccd3-d9e4825b1bf1",
        "colab": {
          "base_uri": "https://localhost:8080/"
        }
      },
      "outputs": [
        {
          "output_type": "stream",
          "name": "stdout",
          "text": [
            "       CODE                        SHORT DESCRIPTION  \\\n",
            "0     A7982        Anaplasmosis [A. phagocytophilum]   \n",
            "1      B373          Candidiasis of vulva and vagina   \n",
            "2     B3731    Acute candidiasis of vulva and vagina   \n",
            "3     B3732  Chronic candidiasis of vulva and vagina   \n",
            "4      C563  Malignant neoplasm of bilateral ovaries   \n",
            "...     ...                                      ...   \n",
            "1093  Y9382          Activity, spectator at an event   \n",
            "1094  Y9383    Activity, rough housing and horseplay   \n",
            "1095  Y9384                       Activity, sleeping   \n",
            "1096  Y9385                   Activity, choking game   \n",
            "1097  Y9389                Activity, other specified   \n",
            "\n",
            "                             LONG DESCRIPTION NF EXCL CODE TYPE  CODE NUM  \n",
            "0           Anaplasmosis [A. phagocytophilum]       Y         A    7982.0  \n",
            "1             Candidiasis of vulva and vagina       Y         B     373.0  \n",
            "2       Acute candisiasis of vulva and vagina       Y         B    3731.0  \n",
            "3     Chronic candidiasis of vulva and vagina       Y         B    3732.0  \n",
            "4     Malignant neoplasm of bilateral ovaries       Y         C     563.0  \n",
            "...                                       ...     ...       ...       ...  \n",
            "1093          Activity, spectator at an event       Y         Y    9382.0  \n",
            "1094    Activity, rough housing and horseplay       Y         Y    9383.0  \n",
            "1095                       Activity, sleeping       Y         Y    9384.0  \n",
            "1096                   Activity, choking game       Y         Y    9385.0  \n",
            "1097                Activity, other specified       Y         Y    9389.0  \n",
            "\n",
            "[1098 rows x 6 columns]\n"
          ]
        }
      ],
      "source": [
        "import pandas as pd\n",
        "\n",
        "def week11():\n",
        "    \"\"\"() -> pd.DataFrame\n",
        "\n",
        "    This function will process the file named in step 2 of the instructions above\n",
        "    using the rules in step 3 above.  It will return a dataframe that contains\n",
        "    the filtered, sorted, and enhanced results.\n",
        "\n",
        "    For my tests, I will validate the shape to start with.\n",
        "    If I have more time, I can figure out how to write tests for the other requirements.\n",
        "\n",
        "    >>> final_data.shape\n",
        "    (1098, 6)\n",
        "    \"\"\"\n",
        "\n",
        "    # Read the CSV file\n",
        "    hospitals = pd.read_csv('https://hds5210-data.s3.amazonaws.com/Section111ValidICD10-Jan2024.csv')\n",
        "\n",
        "    # Create CODE TYPE by extracting the first character of the CODE column\n",
        "    hospitals['CODE TYPE'] = hospitals['CODE'].str[0]\n",
        "\n",
        "    # Create CODE NUM by extracting the numeric part, replacing 'X' with '.', and converting to numeric\n",
        "    hospitals['CODE NUM'] = hospitals['CODE'].str[1:].str.replace('X', '.', regex=False).astype(float)\n",
        "\n",
        "    # Filter rows where NF EXCL is 'Y'\n",
        "    hospitals = hospitals[hospitals['NF EXCL'] == 'Y']\n",
        "\n",
        "    # Sort the DataFrame by CODE TYPE and then by CODE NUM\n",
        "    hospitals = hospitals.sort_values(by=['CODE TYPE', 'CODE NUM'], ascending=[True, True]).reset_index(drop=True)\n",
        "\n",
        "    return hospitals\n",
        "\n",
        "    def convert_code_num(code):\n",
        "      \"\"\"\n",
        "      this function replaces X in the CODE with '.' which can be used to read by numeric function as a float value\n",
        "      \"\"\"\n",
        "    # Remove the first character and replace \"X\" with \".\"\n",
        "      numeric_part = code[1:].replace(\"X\", \".\")\n",
        "      try:\n",
        "        # Convert to float if possible\n",
        "             return float(numeric_part)\n",
        "      except ValueError:\n",
        "        # Return None if conversion fails (optional)\n",
        "              return None\n",
        "\n",
        "    # Apply the conversion function to create \"CODE NUM\" column\n",
        "    hospitals['CODE NUM'] = hospitals['CODE'].apply(convert_code_num)\n",
        "\n",
        "    # Step 3: Filter rows where \"NF EXCL\" is \"Y\"\n",
        "    data = hospitals[hospitals['NF EXCL'] == 'Y']\n",
        "\n",
        "    # Step 4: Sort by \"CODE NUM\" in ascending order, then by \"CODE TYPE\"\n",
        "    final_data = data.sort_values(by=['CODE NUM', 'CODE TYPE']).reset_index(drop=True)\n",
        "\n",
        "    return final_data\n",
        "\n",
        "# Run the week11 function and print results\n",
        "final_data = week11()\n",
        "print(final_data)\n"
      ]
    },
    {
      "cell_type": "markdown",
      "metadata": {
        "id": "ND6_5tbdFZXV"
      },
      "source": [
        "---\n",
        "\n",
        "## You can run your doctests this way"
      ]
    },
    {
      "cell_type": "code",
      "execution_count": 25,
      "metadata": {
        "id": "wzDBGkpRFZXV",
        "outputId": "0f637f0b-86ba-4c31-8431-154bdf218a4c",
        "colab": {
          "base_uri": "https://localhost:8080/"
        }
      },
      "outputs": [
        {
          "output_type": "stream",
          "name": "stdout",
          "text": [
            "Finding tests in NoName\n",
            "Trying:\n",
            "    final_data.shape\n",
            "Expecting:\n",
            "    (1098, 6)\n",
            "ok\n"
          ]
        }
      ],
      "source": [
        "from doctest import run_docstring_examples\n",
        "run_docstring_examples(week11, globs=globals(), verbose=True)"
      ]
    },
    {
      "cell_type": "markdown",
      "metadata": {
        "id": "JlQ_irPbFZXW"
      },
      "source": [
        "---\n",
        "\n",
        "## Use this code to check your output!\n",
        "\n",
        "If you get something other than `\"You did it!!\"` then you still have work to do on your solution.\n",
        "\n",
        "The feedback provided should give you some hints as to what you haven't done correctly in filtering and organizing the data.\n",
        "\n",
        "You can run this as many times as you want.  I'm not recording who is trying what and if you're getting the right answers or not."
      ]
    },
    {
      "cell_type": "code",
      "execution_count": 26,
      "metadata": {
        "id": "cZRZfwbrFZXW",
        "outputId": "75643802-7890-4510-8d6b-e71c488f0424",
        "colab": {
          "base_uri": "https://localhost:8080/"
        }
      },
      "outputs": [
        {
          "output_type": "stream",
          "name": "stdout",
          "text": [
            "200\n",
            "\"You did it!!\"\n"
          ]
        }
      ],
      "source": [
        "import requests\n",
        "\n",
        "r = requests.post('https://rln3ys6dciybh6cydvapszesna0oxcyn.lambda-url.us-east-1.on.aws/',\n",
        "                  headers={\"content-type\": \"application/json\"},\n",
        "                  data=week11().to_json(orient='records'))\n",
        "\n",
        "print(r.status_code)\n",
        "print(r.text)"
      ]
    }
  ],
  "metadata": {
    "kernelspec": {
      "display_name": ".venv",
      "language": "python",
      "name": "python3"
    },
    "language_info": {
      "codemirror_mode": {
        "name": "ipython",
        "version": 3
      },
      "file_extension": ".py",
      "mimetype": "text/x-python",
      "name": "python",
      "nbconvert_exporter": "python",
      "pygments_lexer": "ipython3",
      "version": "3.9.16"
    },
    "colab": {
      "provenance": []
    }
  },
  "nbformat": 4,
  "nbformat_minor": 0
}