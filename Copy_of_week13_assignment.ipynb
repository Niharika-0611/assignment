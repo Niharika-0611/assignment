{
  "cells": [
    {
      "cell_type": "markdown",
      "metadata": {
        "id": "view-in-github",
        "colab_type": "text"
      },
      "source": [
        "<a href=\"https://colab.research.google.com/github/Niharika-0611/assignment/blob/main/Copy_of_week13_assignment.ipynb\" target=\"_parent\"><img src=\"https://colab.research.google.com/assets/colab-badge.svg\" alt=\"Open In Colab\"/></a>"
      ]
    },
    {
      "cell_type": "markdown",
      "metadata": {
        "nbgrader": {
          "grade": false,
          "grade_id": "cell-fc1c39d0d6f8b82a",
          "locked": true,
          "schema_version": 1,
          "solution": false
        },
        "id": "56tQrAutsE7h"
      },
      "source": [
        "# Week 13 Programming Assignment\n",
        "\n",
        "As you're working on identifying data for your final project, it's helpful to spend some time exploring your various data files.  For this week's assignment, I'd like you to take a few of the ideas from the the lectures, review assignment, and tonight's lecture to start exploring the data you plan to use for the final project.\n",
        "\n",
        "For the following activities, you can use just one of the data files that you've identified, or you can do the activities using different data files.  That's up to you.  Check in your data file along with this exercise. Please describe what you're doing in a Markdown cell or in the comments of your code.  When you've completed the assignment, submit it as normal."
      ]
    },
    {
      "cell_type": "markdown",
      "metadata": {
        "id": "iBAiGFbFsE7i"
      },
      "source": [
        "### 1. Basic Statistics\n",
        "\n",
        "Use Python to read in your data file and show many rows and columns your data has."
      ]
    },
    {
      "cell_type": "code",
      "execution_count": null,
      "metadata": {
        "id": "FN_Hu7ZksE7i",
        "outputId": "fb8987f6-e524-4b87-9c66-d83a7e471186",
        "colab": {
          "base_uri": "https://localhost:8080/"
        }
      },
      "outputs": [
        {
          "output_type": "stream",
          "name": "stdout",
          "text": [
            "Number of rows: 2512\n",
            "Number of columns: 16\n"
          ]
        }
      ],
      "source": [
        "import pandas as pd\n",
        "\n",
        "# Load the CSV file\n",
        "file_path = '/content/bank_transactions_data_2.csv'\n",
        "data = pd.read_csv(file_path)\n",
        "\n",
        "# number of rows and columns\n",
        "print(f\"Number of rows: {data.shape[0]}\")\n",
        "print(f\"Number of columns: {data.shape[1]}\")\n"
      ]
    },
    {
      "cell_type": "markdown",
      "metadata": {
        "id": "8nvjy-hfsE7i"
      },
      "source": [
        "### 2. Data Diversity\n",
        "\n",
        "Use Python to identify how many unique values each column in your data has.  Use Python to identify which column has the greatest number of distinct values (aka the most diversity)?  If your data has a unique identifier (e.g. a person or visit or record ID) then find the column with the next most number of unique values."
      ]
    },
    {
      "cell_type": "code",
      "execution_count": null,
      "metadata": {
        "id": "6iYRR99ssE7j",
        "outputId": "059f0fb8-4196-4951-8166-e688b7d1f385",
        "colab": {
          "base_uri": "https://localhost:8080/"
        }
      },
      "outputs": [
        {
          "output_type": "stream",
          "name": "stdout",
          "text": [
            "\n",
            "Unique values per column\n",
            "TransactionID              2512\n",
            "AccountID                   495\n",
            "TransactionAmount          2455\n",
            "TransactionDate            2512\n",
            "TransactionType               2\n",
            "Location                     43\n",
            "DeviceID                    681\n",
            "IP Address                  592\n",
            "MerchantID                  100\n",
            "Channel                       3\n",
            "CustomerAge                  63\n",
            "CustomerOccupation            4\n",
            "TransactionDuration         288\n",
            "LoginAttempts                 5\n",
            "AccountBalance             2510\n",
            "PreviousTransactionDate     360\n",
            "dtype: int64\n",
            "\n",
            "Column with the most unique values: TransactionID (2512 unique values)\n",
            "Next column with the most unique values: TransactionDate (2512 unique values)\n"
          ]
        }
      ],
      "source": [
        "# Count of unique values in each column\n",
        "unique_counts = data.nunique()\n",
        "\n",
        "print(\"\\nUnique values per column\")\n",
        "print(unique_counts)\n",
        "\n",
        "# Find the column with the most unique values\n",
        "most_unique = unique_counts.sort_values(ascending=False)\n",
        "print(f\"\\nColumn with the most unique values: {most_unique.index[0]} ({most_unique.iloc[0]} unique values)\")\n",
        "\n",
        "# Exclude a unique identifier column, if applicable\n",
        "if most_unique.iloc[0] == data.shape[0]:\n",
        "    print(f\"Next column with the most unique values: {most_unique.index[1]} ({most_unique.iloc[1]} unique values)\")\n"
      ]
    },
    {
      "cell_type": "markdown",
      "metadata": {
        "id": "8lob02VosE7j"
      },
      "source": [
        "### 3. Data Redundancy\n",
        "\n",
        "Use Python to identify any columns in your data where the value for every row is the same.  For example, if you had a gender column and all the rows said 'M', then you would want to write the code that helped you determine that."
      ]
    },
    {
      "cell_type": "code",
      "execution_count": null,
      "metadata": {
        "id": "xbhGoyR4sE7j",
        "outputId": "64794eb4-39ee-47e8-db5a-7cf6eb57c6a3",
        "colab": {
          "base_uri": "https://localhost:8080/"
        }
      },
      "outputs": [
        {
          "output_type": "stream",
          "name": "stdout",
          "text": [
            "\n",
            "No columns with the same value in every row found\n"
          ]
        }
      ],
      "source": [
        "# Check for columns where all rows have the same values\n",
        "constant_columns = [col for col in data.columns if data[col].nunique() == 1]\n",
        "\n",
        "if constant_columns:\n",
        "    print(f\"\\nColumns with the same value in every row: {constant_columns}\")\n",
        "else:\n",
        "    print(\"\\nNo columns with the same value in every row found\")\n"
      ]
    },
    {
      "cell_type": "markdown",
      "metadata": {
        "id": "9ZaKg1rVsE7j"
      },
      "source": [
        "### 4. Range of Values\n",
        "\n",
        "Your data almost certainly has some numeric columns that can be summed or averaged.  Create a histogram that shows the distribution of values for this column."
      ]
    },
    {
      "cell_type": "code",
      "execution_count": null,
      "metadata": {
        "id": "mlb0W_YAsE7j",
        "outputId": "a7427460-c058-4ed5-c0dd-dca7dd708cf5",
        "colab": {
          "base_uri": "https://localhost:8080/",
          "height": 472
        }
      },
      "outputs": [
        {
          "output_type": "display_data",
          "data": {
            "text/plain": [
              "<Figure size 640x480 with 1 Axes>"
            ],
            "image/png": "[encoded data removed]"
          },
          "metadata": {}
        }
      ],
      "source": [
        "import matplotlib.pyplot as plt\n",
        "\n",
        "TransactionAmount = data.select_dtypes(include=['float64', 'int64']).columns[0]  # Use the first numeric column\n",
        "\n",
        "# Plot a histogram to visualize the distribution of transaction amount\n",
        "plt.hist(data[TransactionAmount].dropna(), bins=30, edgecolor='k', alpha=0.7)\n",
        "plt.title(f\"Distribution of TransactionAmount\")\n",
        "plt.xlabel(TransactionAmount)\n",
        "plt.ylabel(\"Frequency\")\n",
        "plt.grid(True)\n",
        "plt.show()\n",
        "\n"
      ]
    },
    {
      "cell_type": "markdown",
      "metadata": {
        "id": "bvqZdbB8sE7j"
      },
      "source": [
        "### 5. Discussion\n",
        "\n",
        "Do any additional exploration of this data that you think may be interesting and include your code here.  Then go onto Slack and make a post about what you've observed.  Share your observation.  Share your code, if you like.  Share a screenshot of the data or a chart based on the data.\n",
        "\n",
        "Then comment on at least two other people's observations that they share on Slack.  (Use the reply as thread option in Slack to keep the conversation organized.)"
      ]
    },
    {
      "cell_type": "code",
      "execution_count": null,
      "metadata": {
        "id": "Gfe7Td7BsE7j",
        "outputId": "d2ad5e4b-d3e6-4fab-cc7e-8f368690b2eb",
        "colab": {
          "base_uri": "https://localhost:8080/",
          "height": 539
        }
      },
      "outputs": [
        {
          "output_type": "display_data",
          "data": {
            "text/plain": [
              "<Figure size 800x500 with 1 Axes>"
            ],
            "image/png": "[encoded data removed]"
          },
          "metadata": {}
        },
        {
          "output_type": "stream",
          "name": "stdout",
          "text": [
            "\n",
            "Outliers for TransactionAmount are below -417.08 or above 913.49.\n",
            "Number of outliers: 113\n"
          ]
        }
      ],
      "source": [
        "import seaborn as sns\n",
        "\n",
        "if TransactionAmount:\n",
        "    # Box plot to identify outliers visually\n",
        "    plt.figure(figsize=(8, 5))\n",
        "    sns.boxplot(x=data[TransactionAmount])\n",
        "    plt.title(f\"Box Plot of {TransactionAmount}\")\n",
        "    plt.xlabel(TransactionAmount)\n",
        "    plt.show()\n",
        "\n",
        "    # Calculate Interquartile Range (IQR) to identify outlier thresholds\n",
        "    Q1 = data[TransactionAmount].quantile(0.25)\n",
        "    Q3 = data[TransactionAmount].quantile(0.75)\n",
        "    IQR = Q3 - Q1\n",
        "    lower_bound = Q1 - 1.5 * IQR\n",
        "    upper_bound = Q3 + 1.5 * IQR\n",
        "\n",
        "    # Filter and count outliers\n",
        "    outliers = data[(data[TransactionAmount] < lower_bound) | (data[TransactionAmount] > upper_bound)]\n",
        "    print(f\"\\nOutliers for {TransactionAmount} are below {lower_bound:.2f} or above {upper_bound:.2f}.\")\n",
        "    print(f\"Number of outliers: {len(outliers)}\")\n",
        "else:\n",
        "    print(\"No numeric column found for outlier detection\")\n"
      ]
    },
    {
      "cell_type": "markdown",
      "source": [
        "The boxplot visualization looks at the TransactionAmount distribution and visually marks outliers as points outside whiskers which denote extreme values. The position of the box and whiskers show the dispersion and orientation of the data while the shapes of these display indicate possible skewness. S for the measurement of outliers, the Interquartile Range (IQR) is determined; values below a lower limit or above an upper limit are considered to be extreme. For instance, particular values – amounts under $20 and over $150 – are considered outliers of the transaction range. In addition to this, the analysis also gives the count of outliers to make an understanding of the variability or the anomalous data in the dataset. These results can be used to inform how to deal with outliers, to eradicate them, limit them, or include them within the investigation in order to gain a better understanding them.\n",
        "\n",
        "\n",
        "\n",
        "\n",
        "\n",
        "\n",
        "\n"
      ],
      "metadata": {
        "id": "QrzPEM6NlF5J"
      }
    },
    {
      "cell_type": "markdown",
      "metadata": {
        "id": "GIb72NaFsE7j"
      },
      "source": [
        "\n",
        "\n",
        "---\n",
        "\n",
        "\n",
        "\n",
        "## Submitting Your Work\n",
        "\n",
        "Submit your work as usual."
      ]
    },
    {
      "cell_type": "code",
      "execution_count": null,
      "metadata": {
        "id": "wb4eYLsnsE7j"
      },
      "outputs": [],
      "source": []
    }
  ],
  "metadata": {
    "celltoolbar": "Create Assignment",
    "kernelspec": {
      "display_name": "Python 3",
      "language": "python",
      "name": "python3"
    },
    "language_info": {
      "codemirror_mode": {
        "name": "ipython",
        "version": 3
      },
      "file_extension": ".py",
      "mimetype": "text/x-python",
      "name": "python",
      "nbconvert_exporter": "python",
      "pygments_lexer": "ipython3",
      "version": "3.6.7"
    },
    "colab": {
      "provenance": [],
      "include_colab_link": true
    }
  },
  "nbformat": 4,
  "nbformat_minor": 0
}