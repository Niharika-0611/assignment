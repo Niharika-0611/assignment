{
  "cells": [
    {
      "cell_type": "code",
      "execution_count": 109,
      "metadata": {
        "id": "HGPfQeQeNM8o"
      },
      "outputs": [],
      "source": [
        "thing1 = \"a\"\n",
        "thing2 = 5"
      ]
    },
    {
      "cell_type": "code",
      "execution_count": 110,
      "metadata": {
        "id": "NJVJ6FxqNM8p"
      },
      "outputs": [],
      "source": [
        "# In the cells below, replace None with the correct value"
      ]
    },
    {
      "cell_type": "code",
      "execution_count": 111,
      "metadata": {
        "collapsed": true,
        "id": "Y_GBWkrcNM8p",
        "outputId": "438f9824-f8a5-4280-8d18-ef7248029fa1",
        "colab": {
          "base_uri": "https://localhost:8080/"
        }
      },
      "outputs": [
        {
          "output_type": "execute_result",
          "data": {
            "text/plain": [
              "False"
            ]
          },
          "metadata": {},
          "execution_count": 111
        }
      ],
      "source": [
        "(thing1+\"b\" == None)"
      ]
    },
    {
      "cell_type": "code",
      "source": [
        "(thing1+\"b\" == None)"
      ],
      "metadata": {
        "id": "uMyrpRvcR4xw",
        "outputId": "5a4be00d-9629-4823-b4aa-7ab82bb5756a",
        "colab": {
          "base_uri": "https://localhost:8080/"
        }
      },
      "execution_count": 112,
      "outputs": [
        {
          "output_type": "execute_result",
          "data": {
            "text/plain": [
              "False"
            ]
          },
          "metadata": {},
          "execution_count": 112
        }
      ]
    },
    {
      "cell_type": "code",
      "source": [
        "thing1+\"b\""
      ],
      "metadata": {
        "id": "Kqf6YLSuNX7J",
        "outputId": "0822db8a-ee0c-4a1d-c5d0-551c6ba54b26",
        "colab": {
          "base_uri": "https://localhost:8080/",
          "height": 35
        }
      },
      "execution_count": 113,
      "outputs": [
        {
          "output_type": "execute_result",
          "data": {
            "text/plain": [
              "'ab'"
            ],
            "application/vnd.google.colaboratory.intrinsic+json": {
              "type": "string"
            }
          },
          "metadata": {},
          "execution_count": 113
        }
      ]
    },
    {
      "cell_type": "code",
      "execution_count": 114,
      "metadata": {
        "collapsed": true,
        "id": "F8TCZgV4NM8p",
        "outputId": "ccdae87a-3607-4aca-aa8d-73679e580127",
        "colab": {
          "base_uri": "https://localhost:8080/"
        }
      },
      "outputs": [
        {
          "output_type": "execute_result",
          "data": {
            "text/plain": [
              "False"
            ]
          },
          "metadata": {},
          "execution_count": 114
        }
      ],
      "source": [
        "(thing2+5 == None)"
      ]
    },
    {
      "cell_type": "code",
      "source": [
        "thing2+5"
      ],
      "metadata": {
        "id": "F7wkuOitNfJv",
        "outputId": "49422e2a-5f83-4c10-cb98-11fa335b209f",
        "colab": {
          "base_uri": "https://localhost:8080/"
        }
      },
      "execution_count": 115,
      "outputs": [
        {
          "output_type": "execute_result",
          "data": {
            "text/plain": [
              "10"
            ]
          },
          "metadata": {},
          "execution_count": 115
        }
      ]
    },
    {
      "cell_type": "code",
      "source": [
        "(thing2+5 == None)"
      ],
      "metadata": {
        "id": "tCvLfuyUSEdO",
        "outputId": "81fa71b4-353e-4e23-ec46-d49ccc71f6ef",
        "colab": {
          "base_uri": "https://localhost:8080/"
        }
      },
      "execution_count": 116,
      "outputs": [
        {
          "output_type": "execute_result",
          "data": {
            "text/plain": [
              "False"
            ]
          },
          "metadata": {},
          "execution_count": 116
        }
      ]
    },
    {
      "cell_type": "code",
      "execution_count": 142,
      "metadata": {
        "id": "0xul5-CeNM8q",
        "outputId": "ae7ef7f7-735f-4b1a-d65e-84797ca9de5b",
        "colab": {
          "base_uri": "https://localhost:8080/"
        }
      },
      "outputs": [
        {
          "output_type": "execute_result",
          "data": {
            "text/plain": [
              "False"
            ]
          },
          "metadata": {},
          "execution_count": 142
        }
      ],
      "source": [
        "(thing1+'thing2' == None)"
      ]
    },
    {
      "cell_type": "code",
      "source": [
        "(thing1+'thing2' == None)"
      ],
      "metadata": {
        "id": "v7_LCtz3NjBw",
        "outputId": "b469e95d-4064-4683-8505-a32da0b512ad",
        "colab": {
          "base_uri": "https://localhost:8080/"
        }
      },
      "execution_count": 118,
      "outputs": [
        {
          "output_type": "execute_result",
          "data": {
            "text/plain": [
              "False"
            ]
          },
          "metadata": {},
          "execution_count": 118
        }
      ]
    },
    {
      "cell_type": "code",
      "execution_count": 119,
      "metadata": {
        "id": "tD3DHxwmNM8q",
        "outputId": "569a93e5-47f6-40f7-8cbf-82acc7efc846",
        "colab": {
          "base_uri": "https://localhost:8080/"
        }
      },
      "outputs": [
        {
          "output_type": "execute_result",
          "data": {
            "text/plain": [
              "False"
            ]
          },
          "metadata": {},
          "execution_count": 119
        }
      ],
      "source": [
        "thing1 + \"b\"\n",
        "(thing1 == None)"
      ]
    },
    {
      "cell_type": "code",
      "source": [
        "thing1 + \"b\"\n",
        "(thing1 == None)"
      ],
      "metadata": {
        "id": "PoHspeoYNr_t",
        "outputId": "94fb7638-213a-4a91-d240-fa3bdfb692c1",
        "colab": {
          "base_uri": "https://localhost:8080/"
        }
      },
      "execution_count": 120,
      "outputs": [
        {
          "output_type": "execute_result",
          "data": {
            "text/plain": [
              "False"
            ]
          },
          "metadata": {},
          "execution_count": 120
        }
      ]
    },
    {
      "cell_type": "code",
      "source": [],
      "metadata": {
        "id": "k0L2J5BvNuLy"
      },
      "execution_count": 120,
      "outputs": []
    },
    {
      "cell_type": "code",
      "execution_count": 121,
      "metadata": {
        "id": "Yr_kBWclNM8q",
        "outputId": "4f4611b2-cbb6-4c6c-daad-982ad32c05e0",
        "colab": {
          "base_uri": "https://localhost:8080/"
        }
      },
      "outputs": [
        {
          "output_type": "execute_result",
          "data": {
            "text/plain": [
              "False"
            ]
          },
          "metadata": {},
          "execution_count": 121
        }
      ],
      "source": [
        "thing2 + 5\n",
        "(thing2 == None)"
      ]
    },
    {
      "cell_type": "code",
      "source": [
        "thing2 + 5\n",
        "thing2 == None"
      ],
      "metadata": {
        "id": "sLi9wAyvNzqR",
        "outputId": "5cd26196-77f1-467f-bc24-cfdb4ac7af7f",
        "colab": {
          "base_uri": "https://localhost:8080/"
        }
      },
      "execution_count": 122,
      "outputs": [
        {
          "output_type": "execute_result",
          "data": {
            "text/plain": [
              "False"
            ]
          },
          "metadata": {},
          "execution_count": 122
        }
      ]
    },
    {
      "cell_type": "code",
      "execution_count": 123,
      "metadata": {
        "id": "N5sPOSr9NM8q",
        "outputId": "7af52cc2-50c0-4ccd-ea44-32e4b714c3f9",
        "colab": {
          "base_uri": "https://localhost:8080/"
        }
      },
      "outputs": [
        {
          "output_type": "execute_result",
          "data": {
            "text/plain": [
              "False"
            ]
          },
          "metadata": {},
          "execution_count": 123
        }
      ],
      "source": [
        "thing1 = thing1 + \"b\"\n",
        "(thing1 == None)"
      ]
    },
    {
      "cell_type": "code",
      "source": [
        "thing1 = thing1 + \"b\"\n",
        "thing1 == None"
      ],
      "metadata": {
        "id": "zKrllW3uN6Y4",
        "outputId": "46cd56d8-e10f-4a38-d98e-37155f16cb76",
        "colab": {
          "base_uri": "https://localhost:8080/"
        }
      },
      "execution_count": 124,
      "outputs": [
        {
          "output_type": "execute_result",
          "data": {
            "text/plain": [
              "False"
            ]
          },
          "metadata": {},
          "execution_count": 124
        }
      ]
    },
    {
      "cell_type": "code",
      "execution_count": 125,
      "metadata": {
        "id": "MT6Sx-5FNM8q",
        "outputId": "268e96ee-79b8-4198-c1ab-09725eee3399",
        "colab": {
          "base_uri": "https://localhost:8080/"
        }
      },
      "outputs": [
        {
          "output_type": "execute_result",
          "data": {
            "text/plain": [
              "False"
            ]
          },
          "metadata": {},
          "execution_count": 125
        }
      ],
      "source": [
        "thing2 = thing2 + 5\n",
        "(thing2 == None)"
      ]
    },
    {
      "cell_type": "code",
      "source": [
        "thing2 = thing2 + 5\n",
        "(thing2 == None)\n"
      ],
      "metadata": {
        "id": "c1goY_ITOWqG",
        "outputId": "713819fe-1111-4241-c7e5-6224689c8554",
        "colab": {
          "base_uri": "https://localhost:8080/"
        }
      },
      "execution_count": 126,
      "outputs": [
        {
          "output_type": "execute_result",
          "data": {
            "text/plain": [
              "False"
            ]
          },
          "metadata": {},
          "execution_count": 126
        }
      ]
    },
    {
      "cell_type": "code",
      "execution_count": 127,
      "metadata": {
        "id": "9Z4LrhgpNM8q",
        "outputId": "e8651c08-a080-4635-888d-a5f064f7c20a",
        "colab": {
          "base_uri": "https://localhost:8080/"
        }
      },
      "outputs": [
        {
          "output_type": "execute_result",
          "data": {
            "text/plain": [
              "False"
            ]
          },
          "metadata": {},
          "execution_count": 127
        }
      ],
      "source": [
        "list1 = [\"apple\", \"banana\"]\n",
        "(list1 == None)"
      ]
    },
    {
      "cell_type": "code",
      "source": [
        "list1 = [\"apple\", \"banana\"]\n",
        "(list1 == None)"
      ],
      "metadata": {
        "id": "mW9lZpILOfKY",
        "outputId": "71f3a8cd-c0f6-4061-f806-9d6fa059f080",
        "colab": {
          "base_uri": "https://localhost:8080/"
        }
      },
      "execution_count": 128,
      "outputs": [
        {
          "output_type": "execute_result",
          "data": {
            "text/plain": [
              "False"
            ]
          },
          "metadata": {},
          "execution_count": 128
        }
      ]
    },
    {
      "cell_type": "code",
      "source": [
        "list1 = [\"apple\", \"banana\"]\n",
        "list1"
      ],
      "metadata": {
        "id": "yAWgdwkNOtM4",
        "outputId": "18d98b7a-8491-41ed-ae60-8f63ec373b6c",
        "colab": {
          "base_uri": "https://localhost:8080/"
        }
      },
      "execution_count": 129,
      "outputs": [
        {
          "output_type": "execute_result",
          "data": {
            "text/plain": [
              "['apple', 'banana']"
            ]
          },
          "metadata": {},
          "execution_count": 129
        }
      ]
    },
    {
      "cell_type": "code",
      "execution_count": 130,
      "metadata": {
        "id": "XX4AYw1tNM8r",
        "outputId": "a52f5349-83ff-4286-d31f-118a460f84db",
        "colab": {
          "base_uri": "https://localhost:8080/"
        }
      },
      "outputs": [
        {
          "output_type": "execute_result",
          "data": {
            "text/plain": [
              "False"
            ]
          },
          "metadata": {},
          "execution_count": 130
        }
      ],
      "source": [
        "list1 + [\"cherry\"]\n",
        "(list1 == None)"
      ]
    },
    {
      "cell_type": "code",
      "source": [
        "list1 + [\"cherry\"]"
      ],
      "metadata": {
        "id": "eWRDnlSiPIsU",
        "outputId": "c2c2b5ce-f70c-486f-d178-79268cb44708",
        "colab": {
          "base_uri": "https://localhost:8080/"
        }
      },
      "execution_count": 131,
      "outputs": [
        {
          "output_type": "execute_result",
          "data": {
            "text/plain": [
              "['apple', 'banana', 'cherry']"
            ]
          },
          "metadata": {},
          "execution_count": 131
        }
      ]
    },
    {
      "cell_type": "code",
      "source": [
        "list1 + [\"cherry\"]\n",
        "(list1 == None)"
      ],
      "metadata": {
        "id": "b9pYb9dkPLLI",
        "outputId": "b25d32c8-4ed0-433a-8f53-03ea16da3902",
        "colab": {
          "base_uri": "https://localhost:8080/"
        }
      },
      "execution_count": 132,
      "outputs": [
        {
          "output_type": "execute_result",
          "data": {
            "text/plain": [
              "False"
            ]
          },
          "metadata": {},
          "execution_count": 132
        }
      ]
    },
    {
      "cell_type": "code",
      "execution_count": 133,
      "metadata": {
        "collapsed": true,
        "id": "ygxLL3FaNM8r",
        "outputId": "3c08beb2-a545-45ed-b25d-ff4adda11090",
        "colab": {
          "base_uri": "https://localhost:8080/"
        }
      },
      "outputs": [
        {
          "output_type": "execute_result",
          "data": {
            "text/plain": [
              "False"
            ]
          },
          "metadata": {},
          "execution_count": 133
        }
      ],
      "source": [
        "list1 = list1 + [\"cherry\"]\n",
        "(list1 == None)"
      ]
    },
    {
      "cell_type": "code",
      "source": [
        "list1 = list1 + [\"cherry\"]\n",
        "list1"
      ],
      "metadata": {
        "id": "bxr2c3WcPSVC",
        "outputId": "17e382f8-96ee-400f-bb5a-359cc095012e",
        "colab": {
          "base_uri": "https://localhost:8080/"
        }
      },
      "execution_count": 134,
      "outputs": [
        {
          "output_type": "execute_result",
          "data": {
            "text/plain": [
              "['apple', 'banana', 'cherry', 'cherry']"
            ]
          },
          "metadata": {},
          "execution_count": 134
        }
      ]
    },
    {
      "cell_type": "code",
      "source": [
        "list1 = list1 + [\"cherry\"]\n",
        "(list1 == None)"
      ],
      "metadata": {
        "id": "Zamcv6K_PYcG",
        "outputId": "1758fd09-4a0b-44ab-bf31-4d26c87b739a",
        "colab": {
          "base_uri": "https://localhost:8080/"
        }
      },
      "execution_count": 135,
      "outputs": [
        {
          "output_type": "execute_result",
          "data": {
            "text/plain": [
              "False"
            ]
          },
          "metadata": {},
          "execution_count": 135
        }
      ]
    },
    {
      "cell_type": "code",
      "execution_count": 136,
      "metadata": {
        "collapsed": true,
        "id": "cz_U_7RKNM8r",
        "outputId": "63f61e4e-0a65-493e-c4f7-9dc81bcd2668",
        "colab": {
          "base_uri": "https://localhost:8080/"
        }
      },
      "outputs": [
        {
          "output_type": "execute_result",
          "data": {
            "text/plain": [
              "False"
            ]
          },
          "metadata": {},
          "execution_count": 136
        }
      ],
      "source": [
        "list1.append(\"durian\")\n",
        "(list1 == None)"
      ]
    },
    {
      "cell_type": "code",
      "source": [
        "list1.append(\"durian\")\n",
        "list1"
      ],
      "metadata": {
        "id": "6uzSZ3owPgD_",
        "outputId": "7f656d1d-cb68-4917-ba3a-2bd926ae39dd",
        "colab": {
          "base_uri": "https://localhost:8080/"
        }
      },
      "execution_count": 137,
      "outputs": [
        {
          "output_type": "execute_result",
          "data": {
            "text/plain": [
              "['apple', 'banana', 'cherry', 'cherry', 'cherry', 'durian', 'durian']"
            ]
          },
          "metadata": {},
          "execution_count": 137
        }
      ]
    },
    {
      "cell_type": "code",
      "source": [
        "list1.append(\"durian\")\n",
        "(list1 == None)"
      ],
      "metadata": {
        "id": "0Uecwd90Pksl",
        "outputId": "78f89290-e9aa-4e7d-fc25-20a6ba724614",
        "colab": {
          "base_uri": "https://localhost:8080/"
        }
      },
      "execution_count": 138,
      "outputs": [
        {
          "output_type": "execute_result",
          "data": {
            "text/plain": [
              "False"
            ]
          },
          "metadata": {},
          "execution_count": 138
        }
      ]
    },
    {
      "cell_type": "code",
      "execution_count": 139,
      "metadata": {
        "id": "pg7Uef8eNM8s",
        "outputId": "00fd4a36-4d64-4a45-e21a-bfe6ef81386f",
        "colab": {
          "base_uri": "https://localhost:8080/"
        }
      },
      "outputs": [
        {
          "output_type": "execute_result",
          "data": {
            "text/plain": [
              "['apple',\n",
              " 'banana',\n",
              " 'cherry',\n",
              " 'cherry',\n",
              " 'cherry',\n",
              " 'durian',\n",
              " 'durian',\n",
              " 'durian',\n",
              " 'elderberry']"
            ]
          },
          "metadata": {},
          "execution_count": 139
        }
      ],
      "source": [
        "list2 = list1\n",
        "list2.append (\"elderberry\")\n",
        "#assert(list1 == None)\n",
        "list1"
      ]
    },
    {
      "cell_type": "code",
      "source": [
        "list2 = list1\n",
        "list2.append (\"elderberry\")\n",
        "list1"
      ],
      "metadata": {
        "id": "0fDUNzrlPuxX",
        "outputId": "eee3756c-41c9-48dd-96db-46a30cf5dd64",
        "colab": {
          "base_uri": "https://localhost:8080/"
        }
      },
      "execution_count": 140,
      "outputs": [
        {
          "output_type": "execute_result",
          "data": {
            "text/plain": [
              "['apple',\n",
              " 'banana',\n",
              " 'cherry',\n",
              " 'cherry',\n",
              " 'cherry',\n",
              " 'durian',\n",
              " 'durian',\n",
              " 'durian',\n",
              " 'elderberry',\n",
              " 'elderberry']"
            ]
          },
          "metadata": {},
          "execution_count": 140
        }
      ]
    }
  ],
  "metadata": {
    "kernelspec": {
      "display_name": "Python 3",
      "language": "python",
      "name": "python3"
    },
    "language_info": {
      "codemirror_mode": {
        "name": "ipython",
        "version": 3
      },
      "file_extension": ".py",
      "mimetype": "text/x-python",
      "name": "python",
      "nbconvert_exporter": "python",
      "pygments_lexer": "ipython3",
      "version": "3.9.10"
    },
    "colab": {
      "provenance": []
    }
  },
  "nbformat": 4,
  "nbformat_minor": 0
}